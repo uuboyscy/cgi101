{
 "cells": [
  {
   "cell_type": "code",
   "execution_count": 18,
   "id": "971976e4",
   "metadata": {},
   "outputs": [],
   "source": [
    "import sys\n",
    "sys.path = sys.path + ['/Applications/PyCharm CE.app/Contents/helpers/pydev',\n",
    " '/Applications/PyCharm CE.app/Contents/helpers/third_party/thriftpy',\n",
    " '/Applications/PyCharm CE.app/Contents/helpers/pydev',\n",
    " '/Library/Frameworks/Python.framework/Versions/3.8/lib/python38.zip',\n",
    " '/Library/Frameworks/Python.framework/Versions/3.8/lib/python3.8',\n",
    " '/Library/Frameworks/Python.framework/Versions/3.8/lib/python3.8/lib-dynload',\n",
    " '/Users/uuboy.scy/PycharmProjects/cgi101/venv/lib/python3.8/site-packages',\n",
    " '/Users/uuboy.scy/PycharmProjects/cgi101/venv/lib/python3.8/site-packages/setuptools-40.8.0-py3.8.egg',\n",
    " '/Users/uuboy.scy/PycharmProjects/cgi101/venv/lib/python3.8/site-packages/pip-19.0.3-py3.8.egg',\n",
    " '/Users/uuboy.scy/PycharmProjects/cgi101']"
   ]
  },
  {
   "cell_type": "code",
   "execution_count": 1,
   "id": "17767a45",
   "metadata": {},
   "outputs": [
    {
     "name": "stdout",
     "output_type": "stream",
     "text": [
      "Collecting jieba\n",
      "  Using cached https://files.pythonhosted.org/packages/c6/cb/18eeb235f833b726522d7ebed54f2278ce28ba9438e3135ab0278d9792a2/jieba-0.42.1.tar.gz\n",
      "Installing collected packages: jieba\n",
      "  Running setup.py install for jieba ... \u001b[?25ldone\n",
      "\u001b[?25hSuccessfully installed jieba-0.42.1\n"
     ]
    }
   ],
   "source": [
    "!pip install jieba"
   ]
  },
  {
   "cell_type": "code",
   "execution_count": 19,
   "id": "1dc1fb0d",
   "metadata": {},
   "outputs": [],
   "source": [
    "import jieba"
   ]
  },
  {
   "cell_type": "code",
   "execution_count": 14,
   "id": "e5c86382",
   "metadata": {},
   "outputs": [],
   "source": [
    "s = \"大家好，我叫小賀，今天來中壢AI大數據班上課，覺得很開心\"\n",
    "\n",
    "c1 = jieba.cut(s, cut_all=True)\n",
    "c2 = jieba.cut(s, cut_all=False)\n",
    "c3 = jieba.cut(s)\n",
    "c4 = jieba.cut_for_search(s)"
   ]
  },
  {
   "cell_type": "code",
   "execution_count": 15,
   "id": "07425035",
   "metadata": {},
   "outputs": [
    {
     "name": "stdout",
     "output_type": "stream",
     "text": [
      "大家 | 好 | ， | 我 | 叫 | 小 | 賀 | ， | 今天 | 來 | 中 | 壢 | AI | 大數據班 | 班上 | 課 | ， | 覺 | 得 | 很 | 開 | 心\n",
      "大家 | 好 | ， | 我 | 叫 | 小賀 | ， | 今天 | 來 | 中壢 | AI | 大數據班 | 上課 | ， | 覺得 | 很 | 開心\n",
      "大家 | 好 | ， | 我 | 叫 | 小賀 | ， | 今天 | 來 | 中壢 | AI | 大數據班 | 上課 | ， | 覺得 | 很 | 開心\n",
      "大家 | 好 | ， | 我 | 叫 | 小賀 | ， | 今天 | 來 | 中壢 | AI | 大數據班 | 上課 | ， | 覺得 | 很 | 開心\n"
     ]
    }
   ],
   "source": [
    "print(\" | \".join(c1))\n",
    "print(\" | \".join(c2))\n",
    "print(\" | \".join(c3))\n",
    "print(\" | \".join(c4))"
   ]
  },
  {
   "cell_type": "code",
   "execution_count": 16,
   "id": "eebc8142",
   "metadata": {},
   "outputs": [],
   "source": [
    "jieba.load_userdict('./mydict.txt')"
   ]
  },
  {
   "cell_type": "code",
   "execution_count": 21,
   "id": "1ee7474d",
   "metadata": {},
   "outputs": [
    {
     "name": "stdout",
     "output_type": "stream",
     "text": [
      "大家 | 好 | ， | 我 | 叫 | 小 | 賀 | ， | 今天 | 來 | 中 | 壢 | AI | 大數據班 | 班上 | 課 | ， | 覺 | 得 | 很 | 開 | 心\n",
      "大家 | 好 | ， | 我 | 叫 | 小賀 | ， | 今天 | 來 | 中壢 | AI | 大數據班 | 上課 | ， | 覺得 | 很 | 開心\n",
      "大家 | 好 | ， | 我 | 叫 | 小賀 | ， | 今天 | 來 | 中壢 | AI | 大數據班 | 上課 | ， | 覺得 | 很 | 開心\n",
      "大家 | 好 | ， | 我 | 叫 | 小賀 | ， | 今天 | 來 | 中壢 | AI | 大數據班 | 上課 | ， | 覺得 | 很 | 開心\n"
     ]
    }
   ],
   "source": [
    "s = \"大家好，我叫小賀，今天來中壢AI大數據班上課，覺得很開心\"\n",
    "\n",
    "c1 = jieba.cut(s, cut_all=True)\n",
    "c2 = jieba.cut(s, cut_all=False)\n",
    "c3 = jieba.cut(s)\n",
    "c4 = jieba.cut_for_search(s)\n",
    "\n",
    "print(\" | \".join(c1))\n",
    "print(\" | \".join(c2))\n",
    "print(\" | \".join(c3))\n",
    "print(\" | \".join(c4))"
   ]
  },
  {
   "cell_type": "code",
   "execution_count": null,
   "id": "bd78447f",
   "metadata": {},
   "outputs": [],
   "source": []
  }
 ],
 "metadata": {
  "kernelspec": {
   "display_name": "Python 3 (ipykernel)",
   "language": "python",
   "name": "python3"
  },
  "language_info": {
   "codemirror_mode": {
    "name": "ipython",
    "version": 3
   },
   "file_extension": ".py",
   "mimetype": "text/x-python",
   "name": "python",
   "nbconvert_exporter": "python",
   "pygments_lexer": "ipython3",
   "version": "3.8.2"
  }
 },
 "nbformat": 4,
 "nbformat_minor": 5
}

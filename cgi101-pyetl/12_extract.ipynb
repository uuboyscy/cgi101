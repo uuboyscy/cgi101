{
 "cells": [
  {
   "cell_type": "code",
   "execution_count": 1,
   "id": "5e1802cf",
   "metadata": {},
   "outputs": [],
   "source": [
    "import requests\n",
    "from bs4 import BeautifulSoup\n",
    "\n",
    "url = 'https://www.ptt.cc/bbs/photo/M.1665154612.A.9D6.html'\n",
    "\n"
   ]
  },
  {
   "cell_type": "code",
   "execution_count": 23,
   "id": "5988662f",
   "metadata": {},
   "outputs": [],
   "source": [
    "headersStr = \"\"\"accept: text/html,application/xhtml+xml,application/xml;q=0.9,image/avif,image/webp,image/apng,*/*;q=0.8,application/signed-exchange;v=b3;q=0.9\n",
    "accept-encoding: gzip, deflate, br\n",
    "accept-language: zh-TW,zh;q=0.9,en-US;q=0.8,en;q=0.7,ja;q=0.6\n",
    "cache-control: max-age=0\n",
    "cookie: _ga=GA1.2.1911001629.1664093908; over18=1; _gid=GA1.2.1272286569.1665882612; _gat=1\n",
    "referer: https://www.ptt.cc/bbs/photo/index.html\n",
    "sec-ch-ua: \"Chromium\";v=\"106\", \"Google Chrome\";v=\"106\", \"Not;A=Brand\";v=\"99\"\n",
    "sec-ch-ua-mobile: ?0\n",
    "sec-ch-ua-platform: \"macOS\"\n",
    "sec-fetch-dest: document\n",
    "sec-fetch-mode: navigate\n",
    "sec-fetch-site: same-origin\n",
    "sec-fetch-user: ?1\n",
    "upgrade-insecure-requests: 1\n",
    "user-agent: Mozilla/5.0 (Macintosh; Intel Mac OS X 10_15_7) AppleWebKit/537.36 (KHTML, like Gecko) Chrome/106.0.0.0 Safari/537.36\"\"\""
   ]
  },
  {
   "cell_type": "code",
   "execution_count": 26,
   "id": "c60b2c42",
   "metadata": {},
   "outputs": [
    {
     "name": "stdout",
     "output_type": "stream",
     "text": [
      "['accept', 'text/html,application/xhtml+xml,application/xml;q=0.9,image/avif,image/webp,image/apng,*/*;q=0.8,application/signed-exchange;v=b3;q=0.9']\n",
      "===\n",
      "['accept-encoding', 'gzip, deflate, br']\n",
      "===\n",
      "['accept-language', 'zh-TW,zh;q=0.9,en-US;q=0.8,en;q=0.7,ja;q=0.6']\n",
      "===\n",
      "['cache-control', 'max-age=0']\n",
      "===\n",
      "['cookie', '_ga=GA1.2.1911001629.1664093908; over18=1; _gid=GA1.2.1272286569.1665882612; _gat=1']\n",
      "===\n",
      "['referer', 'https://www.ptt.cc/bbs/photo/index.html']\n",
      "===\n",
      "['sec-ch-ua', '\"Chromium\";v=\"106\", \"Google Chrome\";v=\"106\", \"Not;A=Brand\";v=\"99\"']\n",
      "===\n",
      "['sec-ch-ua-mobile', '?0']\n",
      "===\n",
      "['sec-ch-ua-platform', '\"macOS\"']\n",
      "===\n",
      "['sec-fetch-dest', 'document']\n",
      "===\n",
      "['sec-fetch-mode', 'navigate']\n",
      "===\n",
      "['sec-fetch-site', 'same-origin']\n",
      "===\n",
      "['sec-fetch-user', '?1']\n",
      "===\n",
      "['upgrade-insecure-requests', '1']\n",
      "===\n",
      "['user-agent', 'Mozilla/5.0 (Macintosh; Intel Mac OS X 10_15_7) AppleWebKit/537.36 (KHTML, like Gecko) Chrome/106.0.0.0 Safari/537.36']\n",
      "===\n"
     ]
    }
   ],
   "source": [
    "headers = dict()\n",
    "for r in headersStr.split(\"\\n\"):\n",
    "    print(r.split(\": \"))\n",
    "    print(\"===\")"
   ]
  },
  {
   "cell_type": "code",
   "execution_count": 8,
   "id": "9c540c01",
   "metadata": {},
   "outputs": [
    {
     "data": {
      "text/plain": [
       "{'user-agent': 'Mozilla/5.0 (Macintosh; Intel Mac OS X 10_15_7) AppleWebKit/537.36 (KHTML, like Gecko) Chrome/106.0.0.0 Safari/537.36'}"
      ]
     },
     "execution_count": 8,
     "metadata": {},
     "output_type": "execute_result"
    }
   ],
   "source": [
    "headers = {r.split(\": \")[0]: r.split(\": \")[1] for r in headersStr.split(\"\\n\")}\n",
    "headers"
   ]
  },
  {
   "cell_type": "code",
   "execution_count": 9,
   "id": "dc6dcac8",
   "metadata": {},
   "outputs": [],
   "source": [
    "res = requests.get(url, headers=headers)\n",
    "soup = BeautifulSoup(res.text, 'html.parser')"
   ]
  },
  {
   "cell_type": "code",
   "execution_count": 10,
   "id": "cba470ce",
   "metadata": {
    "scrolled": true
   },
   "outputs": [
    {
     "data": {
      "text/plain": [
       "[<div class=\"bbs-screen bbs-content\" id=\"main-content\"><div class=\"article-metaline\"><span class=\"article-meta-tag\">作者</span><span class=\"article-meta-value\">Nautilidae (銀海豚與鸚鵡蘿)</span></div><div class=\"article-metaline-right\"><span class=\"article-meta-tag\">看板</span><span class=\"article-meta-value\">photo</span></div><div class=\"article-metaline\"><span class=\"article-meta-tag\">標題</span><span class=\"article-meta-value\">[心得] APS正片</span></div><div class=\"article-metaline\"><span class=\"article-meta-tag\">時間</span><span class=\"article-meta-value\">Fri Oct  7 22:56:50 2022</span></div>\n",
       " 本來打算等冰箱裡所有的正片都拍攝並沖洗完\n",
       " \n",
       " 再發個名為「正片朋友」的網誌來分享我探索的正片世界\n",
       " \n",
       " 不過看到玖華Jack大哥要退休的消息 晴天霹靂\n",
       " \n",
       " (2012進正片坑時最先找全彩 考量價格跳槽到台北影像\n",
       " \n",
       " 台北影像不跑E-6後就一直送玖華 2023之後…)\n",
       " \n",
       " 決定把我找來的60多種正片中 最奇特的一位先行在此介紹\n",
       " \n",
       " 因為這位正片朋友 若不是有Jack大哥 我就無法認識了\n",
       " \n",
       " -----&lt;本文&gt;----------------------------\n",
       " \n",
       " 1996年 APS(Advanced Photo System，譯作先進攝影系統)正式登場\n",
       " \n",
       " 當年以體積小、方便為訴求 不過隨著數位浪潮興起\n",
       " \n",
       " APS底片誕生轉眼就凋亡 也不若135和120至今仍有許多使用者\n",
       " \n",
       " 在短如蜉蝣的壽命中 有一家底片廠居然神奇地推出APS正片\n",
       " \n",
       " 富士的Fujichrome 100ix 是100度的APS彩色正片 1卷可拍40張\n",
       " \n",
       " 正好家母早年買的APS相機還能運作 經確認Jack大哥願意處理後\n",
       " \n",
       " 從Mercari把這2003年過期的底片找來 交由家人去自強活動時拍攝\n",
       " \n",
       " (保存狀況未知 只知道前一手在東京)\n",
       " \n",
       " 隨後轉交玖華 由於那邊並沒有專門處理APS底片的機台\n",
       " \n",
       " 被告知有可能要破壞片殼才能取出底片 但好家在有Jack大哥\n",
       " \n",
       " 從附近店家借來專門抽出APS底片的道具 所以最終片殼完好無損\n",
       " \n",
       " 至於拍攝結果…我沒法用掃瞄裝置處理 只能用數位相機與燈箱來翻拍\n",
       " \n",
       " (Nikon D7200 + Nikkor 60mm 2.8D微距鏡 + 富士Pure 5000燈箱)\n",
       " \n",
       " 拍攝地為阿里山 各位加減看吧 對焦不準還請包涵\n",
       " \n",
       " <a href=\"https://i.imgur.com/Xx43pSz.jpg\" rel=\"noreferrer noopener nofollow\" target=\"_blank\">https://i.imgur.com/Xx43pSz.jpg</a>\n",
       " <div class=\"richcontent\"><img alt=\"\" loading=\"lazy\" src=\"https://cache.ptt.cc/c/https/i.imgur.com/Xx43pSzl.jpg?e=1666033474&amp;s=2UHsPI_RFVO4La6Lj1JZYA\"/></div>\n",
       " <a href=\"https://i.imgur.com/17nINYG.jpg\" rel=\"noreferrer noopener nofollow\" target=\"_blank\">https://i.imgur.com/17nINYG.jpg</a>\n",
       " <div class=\"richcontent\"><img alt=\"\" loading=\"lazy\" src=\"https://cache.ptt.cc/c/https/i.imgur.com/17nINYGl.jpg?e=1665991969&amp;s=tIgx2k8IB249SmiRlHBbmA\"/></div>\n",
       " <a href=\"https://i.imgur.com/6vvYUwP.jpg\" rel=\"noreferrer noopener nofollow\" target=\"_blank\">https://i.imgur.com/6vvYUwP.jpg</a>\n",
       " <div class=\"richcontent\"><img alt=\"\" loading=\"lazy\" src=\"https://cache.ptt.cc/c/https/i.imgur.com/6vvYUwPl.jpg?e=1666020999&amp;s=x9twavyHmSoI3Wgk2chyvg\"/></div>\n",
       " <a href=\"https://i.imgur.com/lifgv3X.jpg\" rel=\"noreferrer noopener nofollow\" target=\"_blank\">https://i.imgur.com/lifgv3X.jpg</a>\n",
       " <div class=\"richcontent\"><img alt=\"\" loading=\"lazy\" src=\"https://cache.ptt.cc/c/https/i.imgur.com/lifgv3Xl.jpg?e=1666048349&amp;s=_LYRwt0pTNDJ5t_pVImdgw\"/></div>\n",
       " <a href=\"https://i.imgur.com/DkwpptC.jpg\" rel=\"noreferrer noopener nofollow\" target=\"_blank\">https://i.imgur.com/DkwpptC.jpg</a>\n",
       " <div class=\"richcontent\"><img alt=\"\" loading=\"lazy\" src=\"https://cache.ptt.cc/c/https/i.imgur.com/DkwpptCl.jpg?e=1666031335&amp;s=1JfwhnAWF0QODKRCvdymKg\"/></div>\n",
       " <a href=\"https://i.imgur.com/qmdUzGD.jpg\" rel=\"noreferrer noopener nofollow\" target=\"_blank\">https://i.imgur.com/qmdUzGD.jpg</a>\n",
       " <div class=\"richcontent\"><img alt=\"\" loading=\"lazy\" src=\"https://cache.ptt.cc/c/https/i.imgur.com/qmdUzGDl.jpg?e=1666050710&amp;s=YiX8fcdkJhAaeUYb80e9cg\"/></div>\n",
       " <a href=\"https://i.imgur.com/RXgBiVp.jpg\" rel=\"noreferrer noopener nofollow\" target=\"_blank\">https://i.imgur.com/RXgBiVp.jpg</a>\n",
       " <div class=\"richcontent\"><img alt=\"\" loading=\"lazy\" src=\"https://cache.ptt.cc/c/https/i.imgur.com/RXgBiVpl.jpg?e=1666001240&amp;s=eLXzES4MMKK9YcBfTLVoqA\"/></div>\n",
       " 過期十幾年跑E-6色彩還算正常 真的是運氣好\n",
       " \n",
       " 順帶一提 Jack大哥說他這麼多年來 第一次遇到這種的XD\n",
       " \n",
       " 感謝各位的觀看 至於還躺在我冰箱的80多卷135和20多卷120正片…\n",
       " \n",
       " 看來真的只能靠發哥了呢 希望他不會嫌棄我這種E-6實驗派的\n",
       " \n",
       " (十多年前我的第一卷也是給發哥 但他那邊當時會拆爆片殼\n",
       " \n",
       " 想到要自己拿鉗子和鐵鎚修復就怕 不知現在還是不是這樣)\n",
       " \n",
       " -----&lt;吐槽時間&gt;-----------------------\n",
       " \n",
       " 底片越貴 玩家用量自然撙節 即便有更多玩家加入 生態系仍然萎縮\n",
       " \n",
       " 首先反映在處理所難以為繼陸續收攤 使得自行沖洗外的用戶被迫退出\n",
       " \n",
       " 銷量遲早爆減 底片廠商就能順理成章把底片和相關藥劑的產線關掉\n",
       " \n",
       " 這時就算買得到殘存的底片 也會像Kodachrome一樣 沒有使用可能\n",
       " \n",
       " 至於現在連續漲停的底片攝影器材會不會落地…論附加價值就難說了\n",
       " \n",
       " 玖華退場的話 我看台灣正片生態系很難活到2025 希望是我太悲觀\n",
       " \n",
       " --\n",
       " <span class=\"f2\">※ 發信站: 批踢踢實業坊(ptt.cc), 來自: 111.251.185.27 (臺灣)\n",
       " </span><span class=\"f2\">※ 文章網址: <a href=\"https://www.ptt.cc/bbs/photo/M.1665154612.A.9D6.html\" rel=\"noreferrer noopener nofollow\" target=\"_blank\">https://www.ptt.cc/bbs/photo/M.1665154612.A.9D6.html</a>\n",
       " </span><div class=\"push\"><span class=\"hl push-tag\">推 </span><span class=\"f3 hl push-userid\">lfnet4</span><span class=\"f3 push-content\">: 優質文給推！希望能持續更新</span><span class=\"push-ipdatetime\">10/08 12:00\n",
       " </span></div><a href=\"https://i.imgur.com/FOQQFqK.jpg\" rel=\"noreferrer noopener nofollow\" target=\"_blank\">https://i.imgur.com/FOQQFqK.jpg</a>\n",
       " <div class=\"richcontent\"><img alt=\"\" loading=\"lazy\" src=\"https://cache.ptt.cc/c/https/i.imgur.com/FOQQFqKl.jpg?e=1666024969&amp;s=qFE-hOiuq3NExcemWiI4rg\"/></div>其實我網誌每一篇都差不多擬好稿了\n",
       " 就等這上面每一個空格都填滿片殼後\n",
       " 預計會一個星期發一篇吧\n",
       " …可惜礙於私人因素 不曉得有沒有機會全部打完呢\n",
       " <span class=\"f2\">※ 編輯: Nautilidae (111.251.181.119 臺灣), 10/08/2022 14:49:46\n",
       " </span><div class=\"push\"><span class=\"hl push-tag\">推 </span><span class=\"f3 hl push-userid\">klub</span><span class=\"f3 push-content\">: 他現在還是會拆爆片殼 有想留片殼的朋友請注意</span><span class=\"push-ipdatetime\">10/08 18:26\n",
       " </span></div>感謝情報 哇 那只能找台灣沖印網了\n",
       " 結果台灣沖印網也是轉玖華 我的片殼啊啊啊\n",
       " （上圖那顆Fortia SP就是被拆爆過的 我花了快半小時才勉強回復原狀 嗚…）\n",
       " <span class=\"f2\">※ 編輯: Nautilidae (111.251.181.119 臺灣), 10/08/2022 19:14:34\n",
       " </span><div class=\"push\"><span class=\"hl push-tag\">推 </span><span class=\"f3 hl push-userid\">fe10</span><span class=\"f3 push-content\">: 推，這年頭能看到正片分享真的不容易了！</span><span class=\"push-ipdatetime\"> 10/11 09:54\n",
       " </span></div></div>]"
      ]
     },
     "execution_count": 10,
     "metadata": {},
     "output_type": "execute_result"
    }
   ],
   "source": [
    "soup.select('div[id=\"main-content\"]')"
   ]
  },
  {
   "cell_type": "code",
   "execution_count": 12,
   "id": "a70434ad",
   "metadata": {},
   "outputs": [],
   "source": [
    "article_obj = soup.select('div[id=\"main-content\"]')[0]"
   ]
  },
  {
   "cell_type": "code",
   "execution_count": 13,
   "id": "6c3975cf",
   "metadata": {},
   "outputs": [
    {
     "data": {
      "text/plain": [
       "<span class=\"article-meta-tag\">作者</span>"
      ]
     },
     "execution_count": 13,
     "metadata": {},
     "output_type": "execute_result"
    }
   ],
   "source": [
    "article_obj.span"
   ]
  },
  {
   "cell_type": "code",
   "execution_count": 14,
   "id": "df83f5e9",
   "metadata": {},
   "outputs": [
    {
     "data": {
      "text/plain": [
       "<span class=\"article-meta-tag\">作者</span>"
      ]
     },
     "execution_count": 14,
     "metadata": {},
     "output_type": "execute_result"
    }
   ],
   "source": [
    "article_obj.span.extract()"
   ]
  },
  {
   "cell_type": "code",
   "execution_count": 15,
   "id": "e4dbe79b",
   "metadata": {},
   "outputs": [
    {
     "data": {
      "text/plain": [
       "<span class=\"article-meta-value\">Nautilidae (銀海豚與鸚鵡蘿)</span>"
      ]
     },
     "execution_count": 15,
     "metadata": {},
     "output_type": "execute_result"
    }
   ],
   "source": [
    "article_obj.span\n",
    "# article_obj.select_one('span')"
   ]
  },
  {
   "cell_type": "code",
   "execution_count": 16,
   "id": "6e90fcf4",
   "metadata": {},
   "outputs": [
    {
     "data": {
      "text/plain": [
       "<div class=\"bbs-screen bbs-content\" id=\"main-content\"><div class=\"article-metaline\"><span class=\"article-meta-value\">Nautilidae (銀海豚與鸚鵡蘿)</span></div><div class=\"article-metaline-right\"><span class=\"article-meta-tag\">看板</span><span class=\"article-meta-value\">photo</span></div><div class=\"article-metaline\"><span class=\"article-meta-tag\">標題</span><span class=\"article-meta-value\">[心得] APS正片</span></div><div class=\"article-metaline\"><span class=\"article-meta-tag\">時間</span><span class=\"article-meta-value\">Fri Oct  7 22:56:50 2022</span></div>\n",
       "本來打算等冰箱裡所有的正片都拍攝並沖洗完\n",
       "\n",
       "再發個名為「正片朋友」的網誌來分享我探索的正片世界\n",
       "\n",
       "不過看到玖華Jack大哥要退休的消息 晴天霹靂\n",
       "\n",
       "(2012進正片坑時最先找全彩 考量價格跳槽到台北影像\n",
       "\n",
       "台北影像不跑E-6後就一直送玖華 2023之後…)\n",
       "\n",
       "決定把我找來的60多種正片中 最奇特的一位先行在此介紹\n",
       "\n",
       "因為這位正片朋友 若不是有Jack大哥 我就無法認識了\n",
       "\n",
       "-----&lt;本文&gt;----------------------------\n",
       "\n",
       "1996年 APS(Advanced Photo System，譯作先進攝影系統)正式登場\n",
       "\n",
       "當年以體積小、方便為訴求 不過隨著數位浪潮興起\n",
       "\n",
       "APS底片誕生轉眼就凋亡 也不若135和120至今仍有許多使用者\n",
       "\n",
       "在短如蜉蝣的壽命中 有一家底片廠居然神奇地推出APS正片\n",
       "\n",
       "富士的Fujichrome 100ix 是100度的APS彩色正片 1卷可拍40張\n",
       "\n",
       "正好家母早年買的APS相機還能運作 經確認Jack大哥願意處理後\n",
       "\n",
       "從Mercari把這2003年過期的底片找來 交由家人去自強活動時拍攝\n",
       "\n",
       "(保存狀況未知 只知道前一手在東京)\n",
       "\n",
       "隨後轉交玖華 由於那邊並沒有專門處理APS底片的機台\n",
       "\n",
       "被告知有可能要破壞片殼才能取出底片 但好家在有Jack大哥\n",
       "\n",
       "從附近店家借來專門抽出APS底片的道具 所以最終片殼完好無損\n",
       "\n",
       "至於拍攝結果…我沒法用掃瞄裝置處理 只能用數位相機與燈箱來翻拍\n",
       "\n",
       "(Nikon D7200 + Nikkor 60mm 2.8D微距鏡 + 富士Pure 5000燈箱)\n",
       "\n",
       "拍攝地為阿里山 各位加減看吧 對焦不準還請包涵\n",
       "\n",
       "<a href=\"https://i.imgur.com/Xx43pSz.jpg\" rel=\"noreferrer noopener nofollow\" target=\"_blank\">https://i.imgur.com/Xx43pSz.jpg</a>\n",
       "<div class=\"richcontent\"><img alt=\"\" loading=\"lazy\" src=\"https://cache.ptt.cc/c/https/i.imgur.com/Xx43pSzl.jpg?e=1666033474&amp;s=2UHsPI_RFVO4La6Lj1JZYA\"/></div>\n",
       "<a href=\"https://i.imgur.com/17nINYG.jpg\" rel=\"noreferrer noopener nofollow\" target=\"_blank\">https://i.imgur.com/17nINYG.jpg</a>\n",
       "<div class=\"richcontent\"><img alt=\"\" loading=\"lazy\" src=\"https://cache.ptt.cc/c/https/i.imgur.com/17nINYGl.jpg?e=1665991969&amp;s=tIgx2k8IB249SmiRlHBbmA\"/></div>\n",
       "<a href=\"https://i.imgur.com/6vvYUwP.jpg\" rel=\"noreferrer noopener nofollow\" target=\"_blank\">https://i.imgur.com/6vvYUwP.jpg</a>\n",
       "<div class=\"richcontent\"><img alt=\"\" loading=\"lazy\" src=\"https://cache.ptt.cc/c/https/i.imgur.com/6vvYUwPl.jpg?e=1666020999&amp;s=x9twavyHmSoI3Wgk2chyvg\"/></div>\n",
       "<a href=\"https://i.imgur.com/lifgv3X.jpg\" rel=\"noreferrer noopener nofollow\" target=\"_blank\">https://i.imgur.com/lifgv3X.jpg</a>\n",
       "<div class=\"richcontent\"><img alt=\"\" loading=\"lazy\" src=\"https://cache.ptt.cc/c/https/i.imgur.com/lifgv3Xl.jpg?e=1666048349&amp;s=_LYRwt0pTNDJ5t_pVImdgw\"/></div>\n",
       "<a href=\"https://i.imgur.com/DkwpptC.jpg\" rel=\"noreferrer noopener nofollow\" target=\"_blank\">https://i.imgur.com/DkwpptC.jpg</a>\n",
       "<div class=\"richcontent\"><img alt=\"\" loading=\"lazy\" src=\"https://cache.ptt.cc/c/https/i.imgur.com/DkwpptCl.jpg?e=1666031335&amp;s=1JfwhnAWF0QODKRCvdymKg\"/></div>\n",
       "<a href=\"https://i.imgur.com/qmdUzGD.jpg\" rel=\"noreferrer noopener nofollow\" target=\"_blank\">https://i.imgur.com/qmdUzGD.jpg</a>\n",
       "<div class=\"richcontent\"><img alt=\"\" loading=\"lazy\" src=\"https://cache.ptt.cc/c/https/i.imgur.com/qmdUzGDl.jpg?e=1666050710&amp;s=YiX8fcdkJhAaeUYb80e9cg\"/></div>\n",
       "<a href=\"https://i.imgur.com/RXgBiVp.jpg\" rel=\"noreferrer noopener nofollow\" target=\"_blank\">https://i.imgur.com/RXgBiVp.jpg</a>\n",
       "<div class=\"richcontent\"><img alt=\"\" loading=\"lazy\" src=\"https://cache.ptt.cc/c/https/i.imgur.com/RXgBiVpl.jpg?e=1666001240&amp;s=eLXzES4MMKK9YcBfTLVoqA\"/></div>\n",
       "過期十幾年跑E-6色彩還算正常 真的是運氣好\n",
       "\n",
       "順帶一提 Jack大哥說他這麼多年來 第一次遇到這種的XD\n",
       "\n",
       "感謝各位的觀看 至於還躺在我冰箱的80多卷135和20多卷120正片…\n",
       "\n",
       "看來真的只能靠發哥了呢 希望他不會嫌棄我這種E-6實驗派的\n",
       "\n",
       "(十多年前我的第一卷也是給發哥 但他那邊當時會拆爆片殼\n",
       "\n",
       "想到要自己拿鉗子和鐵鎚修復就怕 不知現在還是不是這樣)\n",
       "\n",
       "-----&lt;吐槽時間&gt;-----------------------\n",
       "\n",
       "底片越貴 玩家用量自然撙節 即便有更多玩家加入 生態系仍然萎縮\n",
       "\n",
       "首先反映在處理所難以為繼陸續收攤 使得自行沖洗外的用戶被迫退出\n",
       "\n",
       "銷量遲早爆減 底片廠商就能順理成章把底片和相關藥劑的產線關掉\n",
       "\n",
       "這時就算買得到殘存的底片 也會像Kodachrome一樣 沒有使用可能\n",
       "\n",
       "至於現在連續漲停的底片攝影器材會不會落地…論附加價值就難說了\n",
       "\n",
       "玖華退場的話 我看台灣正片生態系很難活到2025 希望是我太悲觀\n",
       "\n",
       "--\n",
       "<span class=\"f2\">※ 發信站: 批踢踢實業坊(ptt.cc), 來自: 111.251.185.27 (臺灣)\n",
       "</span><span class=\"f2\">※ 文章網址: <a href=\"https://www.ptt.cc/bbs/photo/M.1665154612.A.9D6.html\" rel=\"noreferrer noopener nofollow\" target=\"_blank\">https://www.ptt.cc/bbs/photo/M.1665154612.A.9D6.html</a>\n",
       "</span><div class=\"push\"><span class=\"hl push-tag\">推 </span><span class=\"f3 hl push-userid\">lfnet4</span><span class=\"f3 push-content\">: 優質文給推！希望能持續更新</span><span class=\"push-ipdatetime\">10/08 12:00\n",
       "</span></div><a href=\"https://i.imgur.com/FOQQFqK.jpg\" rel=\"noreferrer noopener nofollow\" target=\"_blank\">https://i.imgur.com/FOQQFqK.jpg</a>\n",
       "<div class=\"richcontent\"><img alt=\"\" loading=\"lazy\" src=\"https://cache.ptt.cc/c/https/i.imgur.com/FOQQFqKl.jpg?e=1666024969&amp;s=qFE-hOiuq3NExcemWiI4rg\"/></div>其實我網誌每一篇都差不多擬好稿了\n",
       "就等這上面每一個空格都填滿片殼後\n",
       "預計會一個星期發一篇吧\n",
       "…可惜礙於私人因素 不曉得有沒有機會全部打完呢\n",
       "<span class=\"f2\">※ 編輯: Nautilidae (111.251.181.119 臺灣), 10/08/2022 14:49:46\n",
       "</span><div class=\"push\"><span class=\"hl push-tag\">推 </span><span class=\"f3 hl push-userid\">klub</span><span class=\"f3 push-content\">: 他現在還是會拆爆片殼 有想留片殼的朋友請注意</span><span class=\"push-ipdatetime\">10/08 18:26\n",
       "</span></div>感謝情報 哇 那只能找台灣沖印網了\n",
       "結果台灣沖印網也是轉玖華 我的片殼啊啊啊\n",
       "（上圖那顆Fortia SP就是被拆爆過的 我花了快半小時才勉強回復原狀 嗚…）\n",
       "<span class=\"f2\">※ 編輯: Nautilidae (111.251.181.119 臺灣), 10/08/2022 19:14:34\n",
       "</span><div class=\"push\"><span class=\"hl push-tag\">推 </span><span class=\"f3 hl push-userid\">fe10</span><span class=\"f3 push-content\">: 推，這年頭能看到正片分享真的不容易了！</span><span class=\"push-ipdatetime\"> 10/11 09:54\n",
       "</span></div></div>"
      ]
     },
     "execution_count": 16,
     "metadata": {},
     "output_type": "execute_result"
    }
   ],
   "source": [
    "article_obj"
   ]
  },
  {
   "cell_type": "code",
   "execution_count": 17,
   "id": "806b8b1b",
   "metadata": {},
   "outputs": [],
   "source": [
    "for spanObj in article_obj.select('span'):\n",
    "    spanObj.extract()"
   ]
  },
  {
   "cell_type": "code",
   "execution_count": 18,
   "id": "8f991205",
   "metadata": {},
   "outputs": [
    {
     "data": {
      "text/plain": [
       "<div class=\"bbs-screen bbs-content\" id=\"main-content\"><div class=\"article-metaline\"></div><div class=\"article-metaline-right\"></div><div class=\"article-metaline\"></div><div class=\"article-metaline\"></div>\n",
       "本來打算等冰箱裡所有的正片都拍攝並沖洗完\n",
       "\n",
       "再發個名為「正片朋友」的網誌來分享我探索的正片世界\n",
       "\n",
       "不過看到玖華Jack大哥要退休的消息 晴天霹靂\n",
       "\n",
       "(2012進正片坑時最先找全彩 考量價格跳槽到台北影像\n",
       "\n",
       "台北影像不跑E-6後就一直送玖華 2023之後…)\n",
       "\n",
       "決定把我找來的60多種正片中 最奇特的一位先行在此介紹\n",
       "\n",
       "因為這位正片朋友 若不是有Jack大哥 我就無法認識了\n",
       "\n",
       "-----&lt;本文&gt;----------------------------\n",
       "\n",
       "1996年 APS(Advanced Photo System，譯作先進攝影系統)正式登場\n",
       "\n",
       "當年以體積小、方便為訴求 不過隨著數位浪潮興起\n",
       "\n",
       "APS底片誕生轉眼就凋亡 也不若135和120至今仍有許多使用者\n",
       "\n",
       "在短如蜉蝣的壽命中 有一家底片廠居然神奇地推出APS正片\n",
       "\n",
       "富士的Fujichrome 100ix 是100度的APS彩色正片 1卷可拍40張\n",
       "\n",
       "正好家母早年買的APS相機還能運作 經確認Jack大哥願意處理後\n",
       "\n",
       "從Mercari把這2003年過期的底片找來 交由家人去自強活動時拍攝\n",
       "\n",
       "(保存狀況未知 只知道前一手在東京)\n",
       "\n",
       "隨後轉交玖華 由於那邊並沒有專門處理APS底片的機台\n",
       "\n",
       "被告知有可能要破壞片殼才能取出底片 但好家在有Jack大哥\n",
       "\n",
       "從附近店家借來專門抽出APS底片的道具 所以最終片殼完好無損\n",
       "\n",
       "至於拍攝結果…我沒法用掃瞄裝置處理 只能用數位相機與燈箱來翻拍\n",
       "\n",
       "(Nikon D7200 + Nikkor 60mm 2.8D微距鏡 + 富士Pure 5000燈箱)\n",
       "\n",
       "拍攝地為阿里山 各位加減看吧 對焦不準還請包涵\n",
       "\n",
       "<a href=\"https://i.imgur.com/Xx43pSz.jpg\" rel=\"noreferrer noopener nofollow\" target=\"_blank\">https://i.imgur.com/Xx43pSz.jpg</a>\n",
       "<div class=\"richcontent\"><img alt=\"\" loading=\"lazy\" src=\"https://cache.ptt.cc/c/https/i.imgur.com/Xx43pSzl.jpg?e=1666033474&amp;s=2UHsPI_RFVO4La6Lj1JZYA\"/></div>\n",
       "<a href=\"https://i.imgur.com/17nINYG.jpg\" rel=\"noreferrer noopener nofollow\" target=\"_blank\">https://i.imgur.com/17nINYG.jpg</a>\n",
       "<div class=\"richcontent\"><img alt=\"\" loading=\"lazy\" src=\"https://cache.ptt.cc/c/https/i.imgur.com/17nINYGl.jpg?e=1665991969&amp;s=tIgx2k8IB249SmiRlHBbmA\"/></div>\n",
       "<a href=\"https://i.imgur.com/6vvYUwP.jpg\" rel=\"noreferrer noopener nofollow\" target=\"_blank\">https://i.imgur.com/6vvYUwP.jpg</a>\n",
       "<div class=\"richcontent\"><img alt=\"\" loading=\"lazy\" src=\"https://cache.ptt.cc/c/https/i.imgur.com/6vvYUwPl.jpg?e=1666020999&amp;s=x9twavyHmSoI3Wgk2chyvg\"/></div>\n",
       "<a href=\"https://i.imgur.com/lifgv3X.jpg\" rel=\"noreferrer noopener nofollow\" target=\"_blank\">https://i.imgur.com/lifgv3X.jpg</a>\n",
       "<div class=\"richcontent\"><img alt=\"\" loading=\"lazy\" src=\"https://cache.ptt.cc/c/https/i.imgur.com/lifgv3Xl.jpg?e=1666048349&amp;s=_LYRwt0pTNDJ5t_pVImdgw\"/></div>\n",
       "<a href=\"https://i.imgur.com/DkwpptC.jpg\" rel=\"noreferrer noopener nofollow\" target=\"_blank\">https://i.imgur.com/DkwpptC.jpg</a>\n",
       "<div class=\"richcontent\"><img alt=\"\" loading=\"lazy\" src=\"https://cache.ptt.cc/c/https/i.imgur.com/DkwpptCl.jpg?e=1666031335&amp;s=1JfwhnAWF0QODKRCvdymKg\"/></div>\n",
       "<a href=\"https://i.imgur.com/qmdUzGD.jpg\" rel=\"noreferrer noopener nofollow\" target=\"_blank\">https://i.imgur.com/qmdUzGD.jpg</a>\n",
       "<div class=\"richcontent\"><img alt=\"\" loading=\"lazy\" src=\"https://cache.ptt.cc/c/https/i.imgur.com/qmdUzGDl.jpg?e=1666050710&amp;s=YiX8fcdkJhAaeUYb80e9cg\"/></div>\n",
       "<a href=\"https://i.imgur.com/RXgBiVp.jpg\" rel=\"noreferrer noopener nofollow\" target=\"_blank\">https://i.imgur.com/RXgBiVp.jpg</a>\n",
       "<div class=\"richcontent\"><img alt=\"\" loading=\"lazy\" src=\"https://cache.ptt.cc/c/https/i.imgur.com/RXgBiVpl.jpg?e=1666001240&amp;s=eLXzES4MMKK9YcBfTLVoqA\"/></div>\n",
       "過期十幾年跑E-6色彩還算正常 真的是運氣好\n",
       "\n",
       "順帶一提 Jack大哥說他這麼多年來 第一次遇到這種的XD\n",
       "\n",
       "感謝各位的觀看 至於還躺在我冰箱的80多卷135和20多卷120正片…\n",
       "\n",
       "看來真的只能靠發哥了呢 希望他不會嫌棄我這種E-6實驗派的\n",
       "\n",
       "(十多年前我的第一卷也是給發哥 但他那邊當時會拆爆片殼\n",
       "\n",
       "想到要自己拿鉗子和鐵鎚修復就怕 不知現在還是不是這樣)\n",
       "\n",
       "-----&lt;吐槽時間&gt;-----------------------\n",
       "\n",
       "底片越貴 玩家用量自然撙節 即便有更多玩家加入 生態系仍然萎縮\n",
       "\n",
       "首先反映在處理所難以為繼陸續收攤 使得自行沖洗外的用戶被迫退出\n",
       "\n",
       "銷量遲早爆減 底片廠商就能順理成章把底片和相關藥劑的產線關掉\n",
       "\n",
       "這時就算買得到殘存的底片 也會像Kodachrome一樣 沒有使用可能\n",
       "\n",
       "至於現在連續漲停的底片攝影器材會不會落地…論附加價值就難說了\n",
       "\n",
       "玖華退場的話 我看台灣正片生態系很難活到2025 希望是我太悲觀\n",
       "\n",
       "--\n",
       "<div class=\"push\"></div><a href=\"https://i.imgur.com/FOQQFqK.jpg\" rel=\"noreferrer noopener nofollow\" target=\"_blank\">https://i.imgur.com/FOQQFqK.jpg</a>\n",
       "<div class=\"richcontent\"><img alt=\"\" loading=\"lazy\" src=\"https://cache.ptt.cc/c/https/i.imgur.com/FOQQFqKl.jpg?e=1666024969&amp;s=qFE-hOiuq3NExcemWiI4rg\"/></div>其實我網誌每一篇都差不多擬好稿了\n",
       "就等這上面每一個空格都填滿片殼後\n",
       "預計會一個星期發一篇吧\n",
       "…可惜礙於私人因素 不曉得有沒有機會全部打完呢\n",
       "<div class=\"push\"></div>感謝情報 哇 那只能找台灣沖印網了\n",
       "結果台灣沖印網也是轉玖華 我的片殼啊啊啊\n",
       "（上圖那顆Fortia SP就是被拆爆過的 我花了快半小時才勉強回復原狀 嗚…）\n",
       "<div class=\"push\"></div></div>"
      ]
     },
     "execution_count": 18,
     "metadata": {},
     "output_type": "execute_result"
    }
   ],
   "source": [
    "article_obj"
   ]
  },
  {
   "cell_type": "code",
   "execution_count": 19,
   "id": "1593592e",
   "metadata": {},
   "outputs": [],
   "source": [
    "for divObj in article_obj.select('div'):\n",
    "    divObj.extract()"
   ]
  },
  {
   "cell_type": "code",
   "execution_count": 21,
   "id": "18627b12",
   "metadata": {},
   "outputs": [
    {
     "data": {
      "text/plain": [
       "'\\n本來打算等冰箱裡所有的正片都拍攝並沖洗完\\n\\n再發個名為「正片朋友」的網誌來分享我探索的正片世界\\n\\n不過看到玖華Jack大哥要退休的消息 晴天霹靂\\n\\n(2012進正片坑時最先找全彩 考量價格跳槽到台北影像\\n\\n台北影像不跑E-6後就一直送玖華 2023之後…)\\n\\n決定把我找來的60多種正片中 最奇特的一位先行在此介紹\\n\\n因為這位正片朋友 若不是有Jack大哥 我就無法認識了\\n\\n-----<本文>----------------------------\\n\\n1996年 APS(Advanced Photo System，譯作先進攝影系統)正式登場\\n\\n當年以體積小、方便為訴求 不過隨著數位浪潮興起\\n\\nAPS底片誕生轉眼就凋亡 也不若135和120至今仍有許多使用者\\n\\n在短如蜉蝣的壽命中 有一家底片廠居然神奇地推出APS正片\\n\\n富士的Fujichrome 100ix 是100度的APS彩色正片 1卷可拍40張\\n\\n正好家母早年買的APS相機還能運作 經確認Jack大哥願意處理後\\n\\n從Mercari把這2003年過期的底片找來 交由家人去自強活動時拍攝\\n\\n(保存狀況未知 只知道前一手在東京)\\n\\n隨後轉交玖華 由於那邊並沒有專門處理APS底片的機台\\n\\n被告知有可能要破壞片殼才能取出底片 但好家在有Jack大哥\\n\\n從附近店家借來專門抽出APS底片的道具 所以最終片殼完好無損\\n\\n至於拍攝結果…我沒法用掃瞄裝置處理 只能用數位相機與燈箱來翻拍\\n\\n(Nikon D7200 + Nikkor 60mm 2.8D微距鏡 + 富士Pure 5000燈箱)\\n\\n拍攝地為阿里山 各位加減看吧 對焦不準還請包涵\\n\\nhttps://i.imgur.com/Xx43pSz.jpg\\n\\nhttps://i.imgur.com/17nINYG.jpg\\n\\nhttps://i.imgur.com/6vvYUwP.jpg\\n\\nhttps://i.imgur.com/lifgv3X.jpg\\n\\nhttps://i.imgur.com/DkwpptC.jpg\\n\\nhttps://i.imgur.com/qmdUzGD.jpg\\n\\nhttps://i.imgur.com/RXgBiVp.jpg\\n\\n過期十幾年跑E-6色彩還算正常 真的是運氣好\\n\\n順帶一提 Jack大哥說他這麼多年來 第一次遇到這種的XD\\n\\n感謝各位的觀看 至於還躺在我冰箱的80多卷135和20多卷120正片…\\n\\n看來真的只能靠發哥了呢 希望他不會嫌棄我這種E-6實驗派的\\n\\n(十多年前我的第一卷也是給發哥 但他那邊當時會拆爆片殼\\n\\n想到要自己拿鉗子和鐵鎚修復就怕 不知現在還是不是這樣)\\n\\n-----<吐槽時間>-----------------------\\n\\n底片越貴 玩家用量自然撙節 即便有更多玩家加入 生態系仍然萎縮\\n\\n首先反映在處理所難以為繼陸續收攤 使得自行沖洗外的用戶被迫退出\\n\\n銷量遲早爆減 底片廠商就能順理成章把底片和相關藥劑的產線關掉\\n\\n這時就算買得到殘存的底片 也會像Kodachrome一樣 沒有使用可能\\n\\n至於現在連續漲停的底片攝影器材會不會落地…論附加價值就難說了\\n\\n玖華退場的話 我看台灣正片生態系很難活到2025 希望是我太悲觀\\n\\n--\\nhttps://i.imgur.com/FOQQFqK.jpg\\n其實我網誌每一篇都差不多擬好稿了\\n就等這上面每一個空格都填滿片殼後\\n預計會一個星期發一篇吧\\n…可惜礙於私人因素 不曉得有沒有機會全部打完呢\\n感謝情報 哇 那只能找台灣沖印網了\\n結果台灣沖印網也是轉玖華 我的片殼啊啊啊\\n（上圖那顆Fortia SP就是被拆爆過的 我花了快半小時才勉強回復原狀 嗚…）\\n'"
      ]
     },
     "execution_count": 21,
     "metadata": {},
     "output_type": "execute_result"
    }
   ],
   "source": [
    "article_obj.text"
   ]
  },
  {
   "cell_type": "code",
   "execution_count": null,
   "id": "25199c45",
   "metadata": {},
   "outputs": [],
   "source": []
  }
 ],
 "metadata": {
  "kernelspec": {
   "display_name": "Python 3 (ipykernel)",
   "language": "python",
   "name": "python3"
  },
  "language_info": {
   "codemirror_mode": {
    "name": "ipython",
    "version": 3
   },
   "file_extension": ".py",
   "mimetype": "text/x-python",
   "name": "python",
   "nbconvert_exporter": "python",
   "pygments_lexer": "ipython3",
   "version": "3.8.2"
  }
 },
 "nbformat": 4,
 "nbformat_minor": 5
}

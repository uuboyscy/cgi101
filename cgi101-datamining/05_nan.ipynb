{
 "cells": [
  {
   "cell_type": "code",
   "execution_count": 1,
   "id": "e4efa08f",
   "metadata": {},
   "outputs": [],
   "source": [
    "import pandas as pd\n",
    "import numpy as np"
   ]
  },
  {
   "cell_type": "code",
   "execution_count": 2,
   "id": "9d040a74",
   "metadata": {},
   "outputs": [
    {
     "data": {
      "text/html": [
       "<div>\n",
       "<style scoped>\n",
       "    .dataframe tbody tr th:only-of-type {\n",
       "        vertical-align: middle;\n",
       "    }\n",
       "\n",
       "    .dataframe tbody tr th {\n",
       "        vertical-align: top;\n",
       "    }\n",
       "\n",
       "    .dataframe thead th {\n",
       "        text-align: right;\n",
       "    }\n",
       "</style>\n",
       "<table border=\"1\" class=\"dataframe\">\n",
       "  <thead>\n",
       "    <tr style=\"text-align: right;\">\n",
       "      <th></th>\n",
       "      <th>col1</th>\n",
       "      <th>col2</th>\n",
       "      <th>col3</th>\n",
       "    </tr>\n",
       "  </thead>\n",
       "  <tbody>\n",
       "    <tr>\n",
       "      <th>0</th>\n",
       "      <td>test1</td>\n",
       "      <td>13.0</td>\n",
       "      <td>NaN</td>\n",
       "    </tr>\n",
       "    <tr>\n",
       "      <th>1</th>\n",
       "      <td>test2</td>\n",
       "      <td>44.0</td>\n",
       "      <td>aaa</td>\n",
       "    </tr>\n",
       "    <tr>\n",
       "      <th>2</th>\n",
       "      <td>test3</td>\n",
       "      <td>NaN</td>\n",
       "      <td>NaN</td>\n",
       "    </tr>\n",
       "    <tr>\n",
       "      <th>3</th>\n",
       "      <td>NaN</td>\n",
       "      <td>NaN</td>\n",
       "      <td>NaN</td>\n",
       "    </tr>\n",
       "    <tr>\n",
       "      <th>4</th>\n",
       "      <td>test5</td>\n",
       "      <td>NaN</td>\n",
       "      <td>bbb</td>\n",
       "    </tr>\n",
       "    <tr>\n",
       "      <th>5</th>\n",
       "      <td>NaN</td>\n",
       "      <td>NaN</td>\n",
       "      <td>NaN</td>\n",
       "    </tr>\n",
       "  </tbody>\n",
       "</table>\n",
       "</div>"
      ],
      "text/plain": [
       "    col1  col2 col3\n",
       "0  test1  13.0  NaN\n",
       "1  test2  44.0  aaa\n",
       "2  test3   NaN  NaN\n",
       "3    NaN   NaN  NaN\n",
       "4  test5   NaN  bbb\n",
       "5    NaN   NaN  NaN"
      ]
     },
     "execution_count": 2,
     "metadata": {},
     "output_type": "execute_result"
    }
   ],
   "source": [
    "df = pd.read_csv(\"test_nan.csv\")\n",
    "df"
   ]
  },
  {
   "cell_type": "code",
   "execution_count": 3,
   "id": "d808064f",
   "metadata": {},
   "outputs": [
    {
     "data": {
      "text/html": [
       "<div>\n",
       "<style scoped>\n",
       "    .dataframe tbody tr th:only-of-type {\n",
       "        vertical-align: middle;\n",
       "    }\n",
       "\n",
       "    .dataframe tbody tr th {\n",
       "        vertical-align: top;\n",
       "    }\n",
       "\n",
       "    .dataframe thead th {\n",
       "        text-align: right;\n",
       "    }\n",
       "</style>\n",
       "<table border=\"1\" class=\"dataframe\">\n",
       "  <thead>\n",
       "    <tr style=\"text-align: right;\">\n",
       "      <th></th>\n",
       "      <th>col1</th>\n",
       "      <th>col2</th>\n",
       "      <th>col3</th>\n",
       "    </tr>\n",
       "  </thead>\n",
       "  <tbody>\n",
       "    <tr>\n",
       "      <th>0</th>\n",
       "      <td>test1</td>\n",
       "      <td>13.0</td>\n",
       "      <td>None</td>\n",
       "    </tr>\n",
       "    <tr>\n",
       "      <th>1</th>\n",
       "      <td>test2</td>\n",
       "      <td>44.0</td>\n",
       "      <td>aaa</td>\n",
       "    </tr>\n",
       "    <tr>\n",
       "      <th>2</th>\n",
       "      <td>test3</td>\n",
       "      <td>NaN</td>\n",
       "      <td>None</td>\n",
       "    </tr>\n",
       "    <tr>\n",
       "      <th>3</th>\n",
       "      <td>None</td>\n",
       "      <td>NaN</td>\n",
       "      <td>None</td>\n",
       "    </tr>\n",
       "  </tbody>\n",
       "</table>\n",
       "</div>"
      ],
      "text/plain": [
       "    col1  col2  col3\n",
       "0  test1  13.0  None\n",
       "1  test2  44.0   aaa\n",
       "2  test3   NaN  None\n",
       "3   None   NaN  None"
      ]
     },
     "execution_count": 3,
     "metadata": {},
     "output_type": "execute_result"
    }
   ],
   "source": [
    "columns = [\"col1\", \"col2\", \"col3\"]\n",
    "data = [\n",
    "    [\"test1\", 13, None],\n",
    "    [\"test2\", 44, \"aaa\"],\n",
    "    [\"test3\", None, None],\n",
    "    [None, None, None]\n",
    "]\n",
    "\n",
    "df2 = pd.DataFrame(data=data, columns=columns)\n",
    "df2"
   ]
  },
  {
   "cell_type": "code",
   "execution_count": 5,
   "id": "61ac8c5c",
   "metadata": {},
   "outputs": [
    {
     "data": {
      "text/plain": [
       "NoneType"
      ]
     },
     "execution_count": 5,
     "metadata": {},
     "output_type": "execute_result"
    }
   ],
   "source": [
    "type(df2.col3[0])"
   ]
  },
  {
   "cell_type": "code",
   "execution_count": 6,
   "id": "afa2a9c7",
   "metadata": {},
   "outputs": [
    {
     "data": {
      "text/plain": [
       "numpy.float64"
      ]
     },
     "execution_count": 6,
     "metadata": {},
     "output_type": "execute_result"
    }
   ],
   "source": [
    "type(df2.col2[3])"
   ]
  },
  {
   "cell_type": "code",
   "execution_count": 7,
   "id": "094f2b7c",
   "metadata": {},
   "outputs": [
    {
     "data": {
      "text/html": [
       "<div>\n",
       "<style scoped>\n",
       "    .dataframe tbody tr th:only-of-type {\n",
       "        vertical-align: middle;\n",
       "    }\n",
       "\n",
       "    .dataframe tbody tr th {\n",
       "        vertical-align: top;\n",
       "    }\n",
       "\n",
       "    .dataframe thead th {\n",
       "        text-align: right;\n",
       "    }\n",
       "</style>\n",
       "<table border=\"1\" class=\"dataframe\">\n",
       "  <thead>\n",
       "    <tr style=\"text-align: right;\">\n",
       "      <th></th>\n",
       "      <th>col1</th>\n",
       "      <th>col2</th>\n",
       "      <th>col3</th>\n",
       "    </tr>\n",
       "  </thead>\n",
       "  <tbody>\n",
       "    <tr>\n",
       "      <th>0</th>\n",
       "      <td>test1</td>\n",
       "      <td>13.0</td>\n",
       "      <td>NaN</td>\n",
       "    </tr>\n",
       "    <tr>\n",
       "      <th>1</th>\n",
       "      <td>test2</td>\n",
       "      <td>44.0</td>\n",
       "      <td>aaa</td>\n",
       "    </tr>\n",
       "    <tr>\n",
       "      <th>2</th>\n",
       "      <td>test3</td>\n",
       "      <td>NaN</td>\n",
       "      <td>NaN</td>\n",
       "    </tr>\n",
       "    <tr>\n",
       "      <th>3</th>\n",
       "      <td>NaN</td>\n",
       "      <td>NaN</td>\n",
       "      <td>NaN</td>\n",
       "    </tr>\n",
       "  </tbody>\n",
       "</table>\n",
       "</div>"
      ],
      "text/plain": [
       "    col1  col2 col3\n",
       "0  test1  13.0  NaN\n",
       "1  test2  44.0  aaa\n",
       "2  test3   NaN  NaN\n",
       "3    NaN   NaN  NaN"
      ]
     },
     "execution_count": 7,
     "metadata": {},
     "output_type": "execute_result"
    }
   ],
   "source": [
    "data = [\n",
    "    [\"test1\", 13, np.nan],\n",
    "    [\"test2\", 44, \"aaa\"],\n",
    "    [\"test3\", np.nan, np.nan],\n",
    "    [np.nan, np.nan, np.nan]\n",
    "]\n",
    "\n",
    "df2 = pd.DataFrame(data=data, columns=columns)\n",
    "df2"
   ]
  },
  {
   "cell_type": "code",
   "execution_count": 8,
   "id": "459dfff6",
   "metadata": {},
   "outputs": [
    {
     "data": {
      "text/plain": [
       "0     True\n",
       "1    False\n",
       "2     True\n",
       "3     True\n",
       "Name: col3, dtype: bool"
      ]
     },
     "execution_count": 8,
     "metadata": {},
     "output_type": "execute_result"
    }
   ],
   "source": [
    "df2.col3.isna()"
   ]
  },
  {
   "cell_type": "code",
   "execution_count": 9,
   "id": "c04ec5c6",
   "metadata": {},
   "outputs": [
    {
     "data": {
      "text/html": [
       "<div>\n",
       "<style scoped>\n",
       "    .dataframe tbody tr th:only-of-type {\n",
       "        vertical-align: middle;\n",
       "    }\n",
       "\n",
       "    .dataframe tbody tr th {\n",
       "        vertical-align: top;\n",
       "    }\n",
       "\n",
       "    .dataframe thead th {\n",
       "        text-align: right;\n",
       "    }\n",
       "</style>\n",
       "<table border=\"1\" class=\"dataframe\">\n",
       "  <thead>\n",
       "    <tr style=\"text-align: right;\">\n",
       "      <th></th>\n",
       "      <th>col1</th>\n",
       "      <th>col2</th>\n",
       "      <th>col3</th>\n",
       "    </tr>\n",
       "  </thead>\n",
       "  <tbody>\n",
       "    <tr>\n",
       "      <th>0</th>\n",
       "      <td>test1</td>\n",
       "      <td>13.0</td>\n",
       "      <td>NaN</td>\n",
       "    </tr>\n",
       "    <tr>\n",
       "      <th>2</th>\n",
       "      <td>test3</td>\n",
       "      <td>NaN</td>\n",
       "      <td>NaN</td>\n",
       "    </tr>\n",
       "    <tr>\n",
       "      <th>3</th>\n",
       "      <td>NaN</td>\n",
       "      <td>NaN</td>\n",
       "      <td>NaN</td>\n",
       "    </tr>\n",
       "  </tbody>\n",
       "</table>\n",
       "</div>"
      ],
      "text/plain": [
       "    col1  col2 col3\n",
       "0  test1  13.0  NaN\n",
       "2  test3   NaN  NaN\n",
       "3    NaN   NaN  NaN"
      ]
     },
     "execution_count": 9,
     "metadata": {},
     "output_type": "execute_result"
    }
   ],
   "source": [
    "df2[df2.col3.isna()]"
   ]
  },
  {
   "cell_type": "code",
   "execution_count": 10,
   "id": "dad17c39",
   "metadata": {},
   "outputs": [
    {
     "data": {
      "text/html": [
       "<div>\n",
       "<style scoped>\n",
       "    .dataframe tbody tr th:only-of-type {\n",
       "        vertical-align: middle;\n",
       "    }\n",
       "\n",
       "    .dataframe tbody tr th {\n",
       "        vertical-align: top;\n",
       "    }\n",
       "\n",
       "    .dataframe thead th {\n",
       "        text-align: right;\n",
       "    }\n",
       "</style>\n",
       "<table border=\"1\" class=\"dataframe\">\n",
       "  <thead>\n",
       "    <tr style=\"text-align: right;\">\n",
       "      <th></th>\n",
       "      <th>col1</th>\n",
       "      <th>col2</th>\n",
       "      <th>col3</th>\n",
       "    </tr>\n",
       "  </thead>\n",
       "  <tbody>\n",
       "    <tr>\n",
       "      <th>1</th>\n",
       "      <td>test2</td>\n",
       "      <td>44.0</td>\n",
       "      <td>aaa</td>\n",
       "    </tr>\n",
       "  </tbody>\n",
       "</table>\n",
       "</div>"
      ],
      "text/plain": [
       "    col1  col2 col3\n",
       "1  test2  44.0  aaa"
      ]
     },
     "execution_count": 10,
     "metadata": {},
     "output_type": "execute_result"
    }
   ],
   "source": [
    "df2[df2.col3.notna()]"
   ]
  },
  {
   "cell_type": "code",
   "execution_count": 11,
   "id": "e1f3b1b6",
   "metadata": {},
   "outputs": [
    {
     "data": {
      "text/html": [
       "<div>\n",
       "<style scoped>\n",
       "    .dataframe tbody tr th:only-of-type {\n",
       "        vertical-align: middle;\n",
       "    }\n",
       "\n",
       "    .dataframe tbody tr th {\n",
       "        vertical-align: top;\n",
       "    }\n",
       "\n",
       "    .dataframe thead th {\n",
       "        text-align: right;\n",
       "    }\n",
       "</style>\n",
       "<table border=\"1\" class=\"dataframe\">\n",
       "  <thead>\n",
       "    <tr style=\"text-align: right;\">\n",
       "      <th></th>\n",
       "      <th>col1</th>\n",
       "      <th>col2</th>\n",
       "      <th>col3</th>\n",
       "    </tr>\n",
       "  </thead>\n",
       "  <tbody>\n",
       "    <tr>\n",
       "      <th>1</th>\n",
       "      <td>test2</td>\n",
       "      <td>44.0</td>\n",
       "      <td>aaa</td>\n",
       "    </tr>\n",
       "  </tbody>\n",
       "</table>\n",
       "</div>"
      ],
      "text/plain": [
       "    col1  col2 col3\n",
       "1  test2  44.0  aaa"
      ]
     },
     "execution_count": 11,
     "metadata": {},
     "output_type": "execute_result"
    }
   ],
   "source": [
    "df2[~(df2.col3.isna())]"
   ]
  },
  {
   "cell_type": "code",
   "execution_count": 12,
   "id": "cb99e63a",
   "metadata": {
    "scrolled": true
   },
   "outputs": [
    {
     "name": "stdout",
     "output_type": "stream",
     "text": [
      "Help on method isna in module pandas.core.series:\n",
      "\n",
      "isna() -> 'Series' method of pandas.core.series.Series instance\n",
      "    Detect missing values.\n",
      "    \n",
      "    Return a boolean same-sized object indicating if the values are NA.\n",
      "    NA values, such as None or :attr:`numpy.NaN`, gets mapped to True\n",
      "    values.\n",
      "    Everything else gets mapped to False values. Characters such as empty\n",
      "    strings ``''`` or :attr:`numpy.inf` are not considered NA values\n",
      "    (unless you set ``pandas.options.mode.use_inf_as_na = True``).\n",
      "    \n",
      "    Returns\n",
      "    -------\n",
      "    Series\n",
      "        Mask of bool values for each element in Series that\n",
      "        indicates whether an element is an NA value.\n",
      "    \n",
      "    See Also\n",
      "    --------\n",
      "    Series.isnull : Alias of isna.\n",
      "    Series.notna : Boolean inverse of isna.\n",
      "    Series.dropna : Omit axes labels with missing values.\n",
      "    isna : Top-level isna.\n",
      "    \n",
      "    Examples\n",
      "    --------\n",
      "    Show which entries in a DataFrame are NA.\n",
      "    \n",
      "    >>> df = pd.DataFrame(dict(age=[5, 6, np.NaN],\n",
      "    ...                    born=[pd.NaT, pd.Timestamp('1939-05-27'),\n",
      "    ...                          pd.Timestamp('1940-04-25')],\n",
      "    ...                    name=['Alfred', 'Batman', ''],\n",
      "    ...                    toy=[None, 'Batmobile', 'Joker']))\n",
      "    >>> df\n",
      "       age       born    name        toy\n",
      "    0  5.0        NaT  Alfred       None\n",
      "    1  6.0 1939-05-27  Batman  Batmobile\n",
      "    2  NaN 1940-04-25              Joker\n",
      "    \n",
      "    >>> df.isna()\n",
      "         age   born   name    toy\n",
      "    0  False   True  False   True\n",
      "    1  False  False  False  False\n",
      "    2   True  False  False  False\n",
      "    \n",
      "    Show which entries in a Series are NA.\n",
      "    \n",
      "    >>> ser = pd.Series([5, 6, np.NaN])\n",
      "    >>> ser\n",
      "    0    5.0\n",
      "    1    6.0\n",
      "    2    NaN\n",
      "    dtype: float64\n",
      "    \n",
      "    >>> ser.isna()\n",
      "    0    False\n",
      "    1    False\n",
      "    2     True\n",
      "    dtype: bool\n",
      "\n"
     ]
    }
   ],
   "source": [
    "help(df2.col3.isna)"
   ]
  },
  {
   "cell_type": "code",
   "execution_count": 13,
   "id": "bfa99793",
   "metadata": {},
   "outputs": [
    {
     "name": "stdout",
     "output_type": "stream",
     "text": [
      "Help on method isnull in module pandas.core.series:\n",
      "\n",
      "isnull() -> 'Series' method of pandas.core.series.Series instance\n",
      "    Series.isnull is an alias for Series.isna.\n",
      "    \n",
      "    Detect missing values.\n",
      "    \n",
      "    Return a boolean same-sized object indicating if the values are NA.\n",
      "    NA values, such as None or :attr:`numpy.NaN`, gets mapped to True\n",
      "    values.\n",
      "    Everything else gets mapped to False values. Characters such as empty\n",
      "    strings ``''`` or :attr:`numpy.inf` are not considered NA values\n",
      "    (unless you set ``pandas.options.mode.use_inf_as_na = True``).\n",
      "    \n",
      "    Returns\n",
      "    -------\n",
      "    Series\n",
      "        Mask of bool values for each element in Series that\n",
      "        indicates whether an element is an NA value.\n",
      "    \n",
      "    See Also\n",
      "    --------\n",
      "    Series.isnull : Alias of isna.\n",
      "    Series.notna : Boolean inverse of isna.\n",
      "    Series.dropna : Omit axes labels with missing values.\n",
      "    isna : Top-level isna.\n",
      "    \n",
      "    Examples\n",
      "    --------\n",
      "    Show which entries in a DataFrame are NA.\n",
      "    \n",
      "    >>> df = pd.DataFrame(dict(age=[5, 6, np.NaN],\n",
      "    ...                    born=[pd.NaT, pd.Timestamp('1939-05-27'),\n",
      "    ...                          pd.Timestamp('1940-04-25')],\n",
      "    ...                    name=['Alfred', 'Batman', ''],\n",
      "    ...                    toy=[None, 'Batmobile', 'Joker']))\n",
      "    >>> df\n",
      "       age       born    name        toy\n",
      "    0  5.0        NaT  Alfred       None\n",
      "    1  6.0 1939-05-27  Batman  Batmobile\n",
      "    2  NaN 1940-04-25              Joker\n",
      "    \n",
      "    >>> df.isna()\n",
      "         age   born   name    toy\n",
      "    0  False   True  False   True\n",
      "    1  False  False  False  False\n",
      "    2   True  False  False  False\n",
      "    \n",
      "    Show which entries in a Series are NA.\n",
      "    \n",
      "    >>> ser = pd.Series([5, 6, np.NaN])\n",
      "    >>> ser\n",
      "    0    5.0\n",
      "    1    6.0\n",
      "    2    NaN\n",
      "    dtype: float64\n",
      "    \n",
      "    >>> ser.isna()\n",
      "    0    False\n",
      "    1    False\n",
      "    2     True\n",
      "    dtype: bool\n",
      "\n"
     ]
    }
   ],
   "source": [
    "help(df2.col3.isnull)"
   ]
  },
  {
   "cell_type": "code",
   "execution_count": null,
   "id": "e1cc87a8",
   "metadata": {},
   "outputs": [],
   "source": []
  }
 ],
 "metadata": {
  "kernelspec": {
   "display_name": "Python 3 (ipykernel)",
   "language": "python",
   "name": "python3"
  },
  "language_info": {
   "codemirror_mode": {
    "name": "ipython",
    "version": 3
   },
   "file_extension": ".py",
   "mimetype": "text/x-python",
   "name": "python",
   "nbconvert_exporter": "python",
   "pygments_lexer": "ipython3",
   "version": "3.8.2"
  }
 },
 "nbformat": 4,
 "nbformat_minor": 5
}

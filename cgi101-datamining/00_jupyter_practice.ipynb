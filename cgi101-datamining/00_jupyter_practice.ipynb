{
 "cells": [
  {
   "cell_type": "code",
   "execution_count": null,
   "id": "7842807c",
   "metadata": {},
   "outputs": [],
   "source": [
    "print(123)"
   ]
  },
  {
   "cell_type": "code",
   "execution_count": null,
   "id": "2d66a040",
   "metadata": {},
   "outputs": [],
   "source": [
    "a = \"aaa\""
   ]
  },
  {
   "cell_type": "code",
   "execution_count": null,
   "id": "0b933d80",
   "metadata": {},
   "outputs": [],
   "source": [
    "a"
   ]
  },
  {
   "cell_type": "code",
   "execution_count": null,
   "id": "0b3eb23d",
   "metadata": {},
   "outputs": [],
   "source": [
    "print(555)"
   ]
  },
  {
   "cell_type": "code",
   "execution_count": null,
   "id": "eae6f3cc",
   "metadata": {},
   "outputs": [],
   "source": [
    "b = 321"
   ]
  },
  {
   "cell_type": "code",
   "execution_count": null,
   "id": "f4767712",
   "metadata": {},
   "outputs": [],
   "source": [
    "print(b)"
   ]
  },
  {
   "cell_type": "code",
   "execution_count": null,
   "id": "5532893d",
   "metadata": {},
   "outputs": [],
   "source": [
    "tmpList = [1,2,3,4,5,6,7,8,9]"
   ]
  },
  {
   "cell_type": "code",
   "execution_count": null,
   "id": "263ae4e9",
   "metadata": {},
   "outputs": [],
   "source": [
    "newList = [i * 2 for i in tmpList if i % 2 == 0]"
   ]
  },
  {
   "cell_type": "code",
   "execution_count": null,
   "id": "96218b5a",
   "metadata": {},
   "outputs": [],
   "source": [
    "newList"
   ]
  },
  {
   "cell_type": "code",
   "execution_count": null,
   "id": "cf6173e4",
   "metadata": {},
   "outputs": [],
   "source": [
    "newList = list()\n",
    "for i in tmpList:\n",
    "    if i % 2 == 0:\n",
    "        newList.append(i * 2)\n",
    "newList"
   ]
  },
  {
   "cell_type": "code",
   "execution_count": null,
   "id": "294a9be9",
   "metadata": {},
   "outputs": [],
   "source": [
    "while True:\n",
    "    pass"
   ]
  },
  {
   "cell_type": "code",
   "execution_count": 1,
   "id": "a0ef8090",
   "metadata": {},
   "outputs": [],
   "source": [
    "import json"
   ]
  },
  {
   "cell_type": "code",
   "execution_count": 2,
   "id": "a678f149",
   "metadata": {},
   "outputs": [],
   "source": [
    "tmpJson = \"\"\"\n",
    "    {\n",
    "        \"test\": \"321\",\n",
    "        \"test2\": \"456\"\n",
    "    }\n",
    "\"\"\""
   ]
  },
  {
   "cell_type": "code",
   "execution_count": 3,
   "id": "627ea1c9",
   "metadata": {},
   "outputs": [
    {
     "data": {
      "text/plain": [
       "{'test': '321', 'test2': '456'}"
      ]
     },
     "execution_count": 3,
     "metadata": {},
     "output_type": "execute_result"
    }
   ],
   "source": [
    "json.loads(tmpJson)"
   ]
  },
  {
   "cell_type": "code",
   "execution_count": 4,
   "id": "d1528475",
   "metadata": {},
   "outputs": [
    {
     "data": {
      "text/plain": [
       "dict"
      ]
     },
     "execution_count": 4,
     "metadata": {},
     "output_type": "execute_result"
    }
   ],
   "source": [
    "tmpDict = json.loads(tmpJson)\n",
    "type(tmpDict)"
   ]
  },
  {
   "cell_type": "code",
   "execution_count": 5,
   "id": "9c3dd1fa",
   "metadata": {},
   "outputs": [
    {
     "data": {
      "text/plain": [
       "'{\"test\": \"321\", \"test2\": \"456\"}'"
      ]
     },
     "execution_count": 5,
     "metadata": {},
     "output_type": "execute_result"
    }
   ],
   "source": [
    "json.dumps(tmpDict)"
   ]
  },
  {
   "cell_type": "code",
   "execution_count": 6,
   "id": "6a3f34d7",
   "metadata": {},
   "outputs": [],
   "source": [
    "json.dump(tmpDict, open(\"tmpjson.json\", \"w\"))"
   ]
  },
  {
   "cell_type": "code",
   "execution_count": null,
   "id": "68ae5a49",
   "metadata": {},
   "outputs": [],
   "source": []
  },
  {
   "cell_type": "code",
   "execution_count": null,
   "id": "8740493f",
   "metadata": {},
   "outputs": [],
   "source": []
  },
  {
   "cell_type": "code",
   "execution_count": null,
   "id": "114dcac0",
   "metadata": {},
   "outputs": [],
   "source": []
  },
  {
   "cell_type": "code",
   "execution_count": null,
   "id": "54bda523",
   "metadata": {},
   "outputs": [],
   "source": []
  },
  {
   "cell_type": "code",
   "execution_count": null,
   "id": "1af8b0ac",
   "metadata": {},
   "outputs": [],
   "source": []
  },
  {
   "cell_type": "code",
   "execution_count": null,
   "id": "4bba6a1d",
   "metadata": {},
   "outputs": [],
   "source": []
  }
 ],
 "metadata": {
  "kernelspec": {
   "display_name": "Python 3 (ipykernel)",
   "language": "python",
   "name": "python3"
  },
  "language_info": {
   "codemirror_mode": {
    "name": "ipython",
    "version": 3
   },
   "file_extension": ".py",
   "mimetype": "text/x-python",
   "name": "python",
   "nbconvert_exporter": "python",
   "pygments_lexer": "ipython3",
   "version": "3.8.2"
  }
 },
 "nbformat": 4,
 "nbformat_minor": 5
}

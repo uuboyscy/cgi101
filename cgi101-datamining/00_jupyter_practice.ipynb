{
 "cells": [
  {
   "cell_type": "code",
   "execution_count": null,
   "id": "b4cee5d0",
   "metadata": {},
   "outputs": [],
   "source": [
    "print(123)"
   ]
  },
  {
   "cell_type": "code",
   "execution_count": null,
   "id": "fd9dba44",
   "metadata": {},
   "outputs": [],
   "source": [
    "a = \"aaa\""
   ]
  },
  {
   "cell_type": "code",
   "execution_count": null,
   "id": "63e9bd06",
   "metadata": {},
   "outputs": [],
   "source": [
    "a"
   ]
  },
  {
   "cell_type": "code",
   "execution_count": null,
   "id": "d551b02e",
   "metadata": {},
   "outputs": [],
   "source": [
    "print(555)"
   ]
  },
  {
   "cell_type": "code",
   "execution_count": null,
   "id": "1c2d4b82",
   "metadata": {},
   "outputs": [],
   "source": [
    "b = 321"
   ]
  },
  {
   "cell_type": "code",
   "execution_count": null,
   "id": "051a0a96",
   "metadata": {},
   "outputs": [],
   "source": [
    "print(b)"
   ]
  },
  {
   "cell_type": "code",
   "execution_count": null,
   "id": "f21d3301",
   "metadata": {},
   "outputs": [],
   "source": [
    "tmpList = [1,2,3,4,5,6,7,8,9]"
   ]
  },
  {
   "cell_type": "code",
   "execution_count": null,
   "id": "e6379dbd",
   "metadata": {},
   "outputs": [],
   "source": [
    "newList = [i * 2 for i in tmpList if i % 2 == 0]"
   ]
  },
  {
   "cell_type": "code",
   "execution_count": null,
   "id": "747fa208",
   "metadata": {},
   "outputs": [],
   "source": [
    "newList"
   ]
  },
  {
   "cell_type": "code",
   "execution_count": null,
   "id": "94347a90",
   "metadata": {},
   "outputs": [],
   "source": [
    "newList = list()\n",
    "for i in tmpList:\n",
    "    if i % 2 == 0:\n",
    "        newList.append(i * 2)\n",
    "newList"
   ]
  },
  {
   "cell_type": "code",
   "execution_count": null,
   "id": "2f51999c",
   "metadata": {},
   "outputs": [],
   "source": [
    "while True:\n",
    "    pass"
   ]
  },
  {
   "cell_type": "code",
   "execution_count": null,
   "id": "0f704829",
   "metadata": {},
   "outputs": [],
   "source": []
  }
 ],
 "metadata": {
  "kernelspec": {
   "display_name": "Python 3 (ipykernel)",
   "language": "python",
   "name": "python3"
  },
  "language_info": {
   "codemirror_mode": {
    "name": "ipython",
    "version": 3
   },
   "file_extension": ".py",
   "mimetype": "text/x-python",
   "name": "python",
   "nbconvert_exporter": "python",
   "pygments_lexer": "ipython3",
   "version": "3.8.2"
  }
 },
 "nbformat": 4,
 "nbformat_minor": 5
}

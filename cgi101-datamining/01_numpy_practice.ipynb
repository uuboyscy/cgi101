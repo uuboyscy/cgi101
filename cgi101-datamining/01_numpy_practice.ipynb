{
 "cells": [
  {
   "cell_type": "code",
   "execution_count": 1,
   "id": "71a35547",
   "metadata": {},
   "outputs": [
    {
     "name": "stdout",
     "output_type": "stream",
     "text": [
      "Collecting numpy\n",
      "\u001b[?25l  Downloading https://files.pythonhosted.org/packages/e5/0e/c76c8cd19fa0477742e553471373e69f4aeb228b3b18aaac305a66cd5f5b/numpy-1.23.3-cp38-cp38-macosx_10_9_x86_64.whl (18.1MB)\n",
      "\u001b[K    100% |████████████████████████████████| 18.1MB 2.4MB/s eta 0:00:011\n",
      "\u001b[?25hInstalling collected packages: numpy\n",
      "Successfully installed numpy-1.23.3\n"
     ]
    }
   ],
   "source": [
    "!pip install numpy"
   ]
  },
  {
   "cell_type": "code",
   "execution_count": 2,
   "id": "e41d48cb",
   "metadata": {},
   "outputs": [
    {
     "name": "stdout",
     "output_type": "stream",
     "text": [
      "Requirement already satisfied: numpy in ./venv/lib/python3.8/site-packages (1.23.3)\r\n"
     ]
    }
   ],
   "source": [
    "!pip install numpy"
   ]
  },
  {
   "cell_type": "code",
   "execution_count": 3,
   "id": "49867058",
   "metadata": {},
   "outputs": [],
   "source": [
    "import numpy as np"
   ]
  },
  {
   "cell_type": "code",
   "execution_count": 4,
   "id": "42f88d41",
   "metadata": {},
   "outputs": [
    {
     "data": {
      "text/plain": [
       "array([0., 0., 0., 0., 0., 0., 0., 0., 0., 0.])"
      ]
     },
     "execution_count": 4,
     "metadata": {},
     "output_type": "execute_result"
    }
   ],
   "source": [
    "np.zeros(10)"
   ]
  },
  {
   "cell_type": "code",
   "execution_count": 5,
   "id": "54b99840",
   "metadata": {},
   "outputs": [
    {
     "data": {
      "text/plain": [
       "array([0, 0, 0, 0, 0, 0, 0, 0, 0, 0])"
      ]
     },
     "execution_count": 5,
     "metadata": {},
     "output_type": "execute_result"
    }
   ],
   "source": [
    "np.zeros(10, dtype=int)"
   ]
  },
  {
   "cell_type": "code",
   "execution_count": 6,
   "id": "4fd0995b",
   "metadata": {},
   "outputs": [
    {
     "data": {
      "text/plain": [
       "array([[0, 0]])"
      ]
     },
     "execution_count": 6,
     "metadata": {},
     "output_type": "execute_result"
    }
   ],
   "source": [
    "np.zeros((1, 2), dtype=int)"
   ]
  },
  {
   "cell_type": "code",
   "execution_count": 7,
   "id": "97e750cc",
   "metadata": {},
   "outputs": [
    {
     "data": {
      "text/plain": [
       "array([[[0, 0, 0, 0],\n",
       "        [0, 0, 0, 0],\n",
       "        [0, 0, 0, 0]],\n",
       "\n",
       "       [[0, 0, 0, 0],\n",
       "        [0, 0, 0, 0],\n",
       "        [0, 0, 0, 0]]])"
      ]
     },
     "execution_count": 7,
     "metadata": {},
     "output_type": "execute_result"
    }
   ],
   "source": [
    "np.zeros((2, 3, 4), dtype=int)"
   ]
  },
  {
   "cell_type": "code",
   "execution_count": 8,
   "id": "e94a1146",
   "metadata": {},
   "outputs": [
    {
     "data": {
      "text/plain": [
       "array([ 1.  ,  2.75,  6.  , 10.75, 17.  ])"
      ]
     },
     "execution_count": 8,
     "metadata": {},
     "output_type": "execute_result"
    }
   ],
   "source": [
    "np.empty(5)"
   ]
  },
  {
   "cell_type": "code",
   "execution_count": 9,
   "id": "7c16957c",
   "metadata": {},
   "outputs": [],
   "source": [
    "a = 1"
   ]
  },
  {
   "cell_type": "code",
   "execution_count": 10,
   "id": "6b0a40a2",
   "metadata": {},
   "outputs": [
    {
     "data": {
      "text/plain": [
       "array([[0.33256883, 0.86978584, 0.02083348],\n",
       "       [0.07524763, 0.30113278, 0.94947093]])"
      ]
     },
     "execution_count": 10,
     "metadata": {},
     "output_type": "execute_result"
    }
   ],
   "source": [
    "np.random.rand(2, 3)"
   ]
  },
  {
   "cell_type": "code",
   "execution_count": 11,
   "id": "5e784b9d",
   "metadata": {},
   "outputs": [
    {
     "data": {
      "text/plain": [
       "array([6, 4, 5, 2, 5, 5, 4, 9, 6, 4, 3, 1, 5, 4, 4, 8, 1, 2, 5, 6])"
      ]
     },
     "execution_count": 11,
     "metadata": {},
     "output_type": "execute_result"
    }
   ],
   "source": [
    "# [1, 10)\n",
    "np.random.randint(1, 10, 20)"
   ]
  },
  {
   "cell_type": "code",
   "execution_count": 12,
   "id": "d7095ecd",
   "metadata": {},
   "outputs": [
    {
     "data": {
      "text/plain": [
       "4"
      ]
     },
     "execution_count": 12,
     "metadata": {},
     "output_type": "execute_result"
    }
   ],
   "source": [
    "import random\n",
    "\n",
    "# [1, 10)\n",
    "random.randint(1, 10) # return int"
   ]
  },
  {
   "cell_type": "code",
   "execution_count": 13,
   "id": "babfeafa",
   "metadata": {},
   "outputs": [],
   "source": [
    "arr = np.random.rand(2, 3)"
   ]
  },
  {
   "cell_type": "code",
   "execution_count": 14,
   "id": "4b9aeb18",
   "metadata": {},
   "outputs": [
    {
     "data": {
      "text/plain": [
       "2"
      ]
     },
     "execution_count": 14,
     "metadata": {},
     "output_type": "execute_result"
    }
   ],
   "source": [
    "arr.ndim"
   ]
  },
  {
   "cell_type": "code",
   "execution_count": 15,
   "id": "8ec57d74",
   "metadata": {},
   "outputs": [
    {
     "data": {
      "text/plain": [
       "(2, 3)"
      ]
     },
     "execution_count": 15,
     "metadata": {},
     "output_type": "execute_result"
    }
   ],
   "source": [
    "arr.shape"
   ]
  },
  {
   "cell_type": "code",
   "execution_count": 16,
   "id": "fe8def83",
   "metadata": {},
   "outputs": [
    {
     "data": {
      "text/plain": [
       "6"
      ]
     },
     "execution_count": 16,
     "metadata": {},
     "output_type": "execute_result"
    }
   ],
   "source": [
    "arr.size"
   ]
  },
  {
   "cell_type": "code",
   "execution_count": 17,
   "id": "27497a2a",
   "metadata": {},
   "outputs": [
    {
     "data": {
      "text/plain": [
       "array([0.93487647, 0.7293788 , 0.63822068, 0.4443302 , 0.53823003,\n",
       "       0.47970093, 0.40166684, 0.04461651, 0.97387479, 0.55054419,\n",
       "       0.31602759, 0.63288562, 0.8744404 , 0.47288492, 0.1962965 ,\n",
       "       0.38366981, 0.08265156, 0.32546146, 0.33819204, 0.70819801,\n",
       "       0.42176009, 0.41847659, 0.37734719, 0.36101764, 0.64194589,\n",
       "       0.28247693, 0.11241613, 0.6637839 , 0.2356812 , 0.76069214,\n",
       "       0.93372925, 0.70834871, 0.6294119 , 0.10638243, 0.76438474,\n",
       "       0.25521605, 0.90041518, 0.08808377, 0.79499839, 0.03967727,\n",
       "       0.95436369, 0.72804395, 0.751818  , 0.03228287, 0.17192543,\n",
       "       0.00629538, 0.33683129, 0.48899512, 0.22217962, 0.55139244,\n",
       "       0.92774008, 0.64635032, 0.15647273, 0.12470729, 0.53739577,\n",
       "       0.04028303, 0.862724  , 0.46108103, 0.96998985, 0.39107418,\n",
       "       0.60798669, 0.24681194, 0.54563547, 0.68966001, 0.68432204,\n",
       "       0.73195645, 0.05570393, 0.78442785, 0.63430588, 0.16005573,\n",
       "       0.22259367, 0.50332041, 0.24924502, 0.98668626, 0.20575404,\n",
       "       0.77011042, 0.87171285, 0.45045382, 0.64209638, 0.78966375,\n",
       "       0.89217877, 0.14814474, 0.73624927, 0.32413466, 0.4469002 ,\n",
       "       0.10655318, 0.90906211, 0.81697734, 0.55671382, 0.29038045,\n",
       "       0.49452103, 0.92947573, 0.37851347, 0.82953717, 0.12542752,\n",
       "       0.71382955, 0.08817694, 0.82815914, 0.06335343, 0.36065002])"
      ]
     },
     "execution_count": 17,
     "metadata": {},
     "output_type": "execute_result"
    }
   ],
   "source": [
    "arr2 = np.random.rand(100)\n",
    "arr2"
   ]
  },
  {
   "cell_type": "code",
   "execution_count": 18,
   "id": "1fd3f7d8",
   "metadata": {},
   "outputs": [
    {
     "data": {
      "text/plain": [
       "array([[0.93487647, 0.7293788 , 0.63822068, 0.4443302 , 0.53823003,\n",
       "        0.47970093, 0.40166684, 0.04461651, 0.97387479, 0.55054419,\n",
       "        0.31602759, 0.63288562, 0.8744404 , 0.47288492, 0.1962965 ,\n",
       "        0.38366981, 0.08265156, 0.32546146, 0.33819204, 0.70819801,\n",
       "        0.42176009, 0.41847659, 0.37734719, 0.36101764, 0.64194589,\n",
       "        0.28247693, 0.11241613, 0.6637839 , 0.2356812 , 0.76069214,\n",
       "        0.93372925, 0.70834871, 0.6294119 , 0.10638243, 0.76438474,\n",
       "        0.25521605, 0.90041518, 0.08808377, 0.79499839, 0.03967727,\n",
       "        0.95436369, 0.72804395, 0.751818  , 0.03228287, 0.17192543,\n",
       "        0.00629538, 0.33683129, 0.48899512, 0.22217962, 0.55139244],\n",
       "       [0.92774008, 0.64635032, 0.15647273, 0.12470729, 0.53739577,\n",
       "        0.04028303, 0.862724  , 0.46108103, 0.96998985, 0.39107418,\n",
       "        0.60798669, 0.24681194, 0.54563547, 0.68966001, 0.68432204,\n",
       "        0.73195645, 0.05570393, 0.78442785, 0.63430588, 0.16005573,\n",
       "        0.22259367, 0.50332041, 0.24924502, 0.98668626, 0.20575404,\n",
       "        0.77011042, 0.87171285, 0.45045382, 0.64209638, 0.78966375,\n",
       "        0.89217877, 0.14814474, 0.73624927, 0.32413466, 0.4469002 ,\n",
       "        0.10655318, 0.90906211, 0.81697734, 0.55671382, 0.29038045,\n",
       "        0.49452103, 0.92947573, 0.37851347, 0.82953717, 0.12542752,\n",
       "        0.71382955, 0.08817694, 0.82815914, 0.06335343, 0.36065002]])"
      ]
     },
     "execution_count": 18,
     "metadata": {},
     "output_type": "execute_result"
    }
   ],
   "source": [
    "arr2.reshape(2, 50)"
   ]
  },
  {
   "cell_type": "code",
   "execution_count": 19,
   "id": "7ed2dd23",
   "metadata": {},
   "outputs": [
    {
     "ename": "ValueError",
     "evalue": "cannot reshape array of size 100 into shape (2,49)",
     "output_type": "error",
     "traceback": [
      "\u001b[0;31m---------------------------------------------------------------------------\u001b[0m",
      "\u001b[0;31mValueError\u001b[0m                                Traceback (most recent call last)",
      "Cell \u001b[0;32mIn [19], line 1\u001b[0m\n\u001b[0;32m----> 1\u001b[0m arr2\u001b[38;5;241m.\u001b[39mreshape(\u001b[38;5;241m2\u001b[39m, \u001b[38;5;241m49\u001b[39m)\n",
      "\u001b[0;31mValueError\u001b[0m: cannot reshape array of size 100 into shape (2,49)"
     ]
    }
   ],
   "source": [
    "arr2.reshape(2, 49)"
   ]
  },
  {
   "cell_type": "code",
   "execution_count": 20,
   "id": "38af5ed3",
   "metadata": {},
   "outputs": [
    {
     "data": {
      "text/plain": [
       "array([[0.93487647, 0.7293788 , 0.63822068, 0.4443302 , 0.53823003,\n",
       "        0.47970093, 0.40166684, 0.04461651, 0.97387479, 0.55054419,\n",
       "        0.31602759, 0.63288562, 0.8744404 , 0.47288492, 0.1962965 ,\n",
       "        0.38366981, 0.08265156, 0.32546146, 0.33819204, 0.70819801,\n",
       "        0.42176009, 0.41847659, 0.37734719, 0.36101764, 0.64194589,\n",
       "        0.28247693, 0.11241613, 0.6637839 , 0.2356812 , 0.76069214,\n",
       "        0.93372925, 0.70834871, 0.6294119 , 0.10638243, 0.76438474,\n",
       "        0.25521605, 0.90041518, 0.08808377, 0.79499839, 0.03967727,\n",
       "        0.95436369, 0.72804395, 0.751818  , 0.03228287, 0.17192543,\n",
       "        0.00629538, 0.33683129, 0.48899512, 0.22217962, 0.55139244],\n",
       "       [0.92774008, 0.64635032, 0.15647273, 0.12470729, 0.53739577,\n",
       "        0.04028303, 0.862724  , 0.46108103, 0.96998985, 0.39107418,\n",
       "        0.60798669, 0.24681194, 0.54563547, 0.68966001, 0.68432204,\n",
       "        0.73195645, 0.05570393, 0.78442785, 0.63430588, 0.16005573,\n",
       "        0.22259367, 0.50332041, 0.24924502, 0.98668626, 0.20575404,\n",
       "        0.77011042, 0.87171285, 0.45045382, 0.64209638, 0.78966375,\n",
       "        0.89217877, 0.14814474, 0.73624927, 0.32413466, 0.4469002 ,\n",
       "        0.10655318, 0.90906211, 0.81697734, 0.55671382, 0.29038045,\n",
       "        0.49452103, 0.92947573, 0.37851347, 0.82953717, 0.12542752,\n",
       "        0.71382955, 0.08817694, 0.82815914, 0.06335343, 0.36065002]])"
      ]
     },
     "execution_count": 20,
     "metadata": {},
     "output_type": "execute_result"
    }
   ],
   "source": [
    "arr2.reshape(2, -1)"
   ]
  },
  {
   "cell_type": "code",
   "execution_count": 21,
   "id": "d752d1f2",
   "metadata": {},
   "outputs": [
    {
     "data": {
      "text/plain": [
       "array([[0.93487647, 0.7293788 , 0.63822068, 0.4443302 , 0.53823003,\n",
       "        0.47970093, 0.40166684, 0.04461651, 0.97387479, 0.55054419,\n",
       "        0.31602759, 0.63288562, 0.8744404 , 0.47288492, 0.1962965 ,\n",
       "        0.38366981, 0.08265156, 0.32546146, 0.33819204, 0.70819801,\n",
       "        0.42176009, 0.41847659, 0.37734719, 0.36101764, 0.64194589],\n",
       "       [0.28247693, 0.11241613, 0.6637839 , 0.2356812 , 0.76069214,\n",
       "        0.93372925, 0.70834871, 0.6294119 , 0.10638243, 0.76438474,\n",
       "        0.25521605, 0.90041518, 0.08808377, 0.79499839, 0.03967727,\n",
       "        0.95436369, 0.72804395, 0.751818  , 0.03228287, 0.17192543,\n",
       "        0.00629538, 0.33683129, 0.48899512, 0.22217962, 0.55139244],\n",
       "       [0.92774008, 0.64635032, 0.15647273, 0.12470729, 0.53739577,\n",
       "        0.04028303, 0.862724  , 0.46108103, 0.96998985, 0.39107418,\n",
       "        0.60798669, 0.24681194, 0.54563547, 0.68966001, 0.68432204,\n",
       "        0.73195645, 0.05570393, 0.78442785, 0.63430588, 0.16005573,\n",
       "        0.22259367, 0.50332041, 0.24924502, 0.98668626, 0.20575404],\n",
       "       [0.77011042, 0.87171285, 0.45045382, 0.64209638, 0.78966375,\n",
       "        0.89217877, 0.14814474, 0.73624927, 0.32413466, 0.4469002 ,\n",
       "        0.10655318, 0.90906211, 0.81697734, 0.55671382, 0.29038045,\n",
       "        0.49452103, 0.92947573, 0.37851347, 0.82953717, 0.12542752,\n",
       "        0.71382955, 0.08817694, 0.82815914, 0.06335343, 0.36065002]])"
      ]
     },
     "execution_count": 21,
     "metadata": {},
     "output_type": "execute_result"
    }
   ],
   "source": [
    "arr2.reshape(-1, 25)"
   ]
  },
  {
   "cell_type": "code",
   "execution_count": 22,
   "id": "77cec7a9",
   "metadata": {},
   "outputs": [
    {
     "data": {
      "text/plain": [
       "array([1, 2, 3, 4, 5, 6])"
      ]
     },
     "execution_count": 22,
     "metadata": {},
     "output_type": "execute_result"
    }
   ],
   "source": [
    "tmpArr = np.array([1, 2, 3, 4, 5, 6])\n",
    "tmpArr"
   ]
  },
  {
   "cell_type": "code",
   "execution_count": 23,
   "id": "857fae7b",
   "metadata": {},
   "outputs": [
    {
     "data": {
      "text/plain": [
       "3.5"
      ]
     },
     "execution_count": 23,
     "metadata": {},
     "output_type": "execute_result"
    }
   ],
   "source": [
    "tmpArr.mean()"
   ]
  },
  {
   "cell_type": "code",
   "execution_count": 24,
   "id": "b7ea1b49",
   "metadata": {},
   "outputs": [
    {
     "data": {
      "text/plain": [
       "6"
      ]
     },
     "execution_count": 24,
     "metadata": {},
     "output_type": "execute_result"
    }
   ],
   "source": [
    "tmpArr.max()"
   ]
  },
  {
   "cell_type": "code",
   "execution_count": 25,
   "id": "a0993039",
   "metadata": {},
   "outputs": [
    {
     "data": {
      "text/plain": [
       "1"
      ]
     },
     "execution_count": 25,
     "metadata": {},
     "output_type": "execute_result"
    }
   ],
   "source": [
    "tmpArr.min()"
   ]
  },
  {
   "cell_type": "code",
   "execution_count": 27,
   "id": "4d3cbb97",
   "metadata": {},
   "outputs": [
    {
     "data": {
      "text/plain": [
       "3.5"
      ]
     },
     "execution_count": 27,
     "metadata": {},
     "output_type": "execute_result"
    }
   ],
   "source": [
    "np.median(tmpArr)"
   ]
  },
  {
   "cell_type": "code",
   "execution_count": 28,
   "id": "97ca2f43",
   "metadata": {},
   "outputs": [
    {
     "data": {
      "text/plain": [
       "1.5"
      ]
     },
     "execution_count": 28,
     "metadata": {},
     "output_type": "execute_result"
    }
   ],
   "source": [
    "np.percentile(tmpArr, 10)"
   ]
  },
  {
   "cell_type": "code",
   "execution_count": 29,
   "id": "83a37e8c",
   "metadata": {},
   "outputs": [
    {
     "data": {
      "text/plain": [
       "2"
      ]
     },
     "execution_count": 29,
     "metadata": {},
     "output_type": "execute_result"
    }
   ],
   "source": [
    "np.percentile(tmpArr, 10, method=\"higher\")"
   ]
  },
  {
   "cell_type": "code",
   "execution_count": 30,
   "id": "60a53f77",
   "metadata": {},
   "outputs": [
    {
     "data": {
      "text/plain": [
       "1"
      ]
     },
     "execution_count": 30,
     "metadata": {},
     "output_type": "execute_result"
    }
   ],
   "source": [
    "np.percentile(tmpArr, 10, method=\"lower\")"
   ]
  },
  {
   "cell_type": "code",
   "execution_count": 31,
   "id": "9f7de37d",
   "metadata": {},
   "outputs": [
    {
     "data": {
      "text/plain": [
       "3"
      ]
     },
     "execution_count": 31,
     "metadata": {},
     "output_type": "execute_result"
    }
   ],
   "source": [
    "np.percentile(tmpArr, 50, method=\"lower\")"
   ]
  },
  {
   "cell_type": "code",
   "execution_count": 32,
   "id": "9e2da1e3",
   "metadata": {},
   "outputs": [
    {
     "data": {
      "text/plain": [
       "5"
      ]
     },
     "execution_count": 32,
     "metadata": {},
     "output_type": "execute_result"
    }
   ],
   "source": [
    "tmpArr.max() - tmpArr.min()"
   ]
  },
  {
   "cell_type": "code",
   "execution_count": 33,
   "id": "5bb5ae02",
   "metadata": {},
   "outputs": [
    {
     "data": {
      "text/plain": [
       "2"
      ]
     },
     "execution_count": 33,
     "metadata": {},
     "output_type": "execute_result"
    }
   ],
   "source": [
    "np.percentile(tmpArr, 75, method=\"higher\") - np.percentile(tmpArr, 25, method=\"higher\")"
   ]
  },
  {
   "cell_type": "code",
   "execution_count": 34,
   "id": "1b8f0c5a",
   "metadata": {},
   "outputs": [
    {
     "data": {
      "text/plain": [
       "5"
      ]
     },
     "execution_count": 34,
     "metadata": {},
     "output_type": "execute_result"
    }
   ],
   "source": [
    "np.percentile(tmpArr, 75, method=\"higher\")"
   ]
  },
  {
   "cell_type": "code",
   "execution_count": 35,
   "id": "c44cffc5",
   "metadata": {},
   "outputs": [
    {
     "data": {
      "text/plain": [
       "11"
      ]
     },
     "execution_count": 35,
     "metadata": {},
     "output_type": "execute_result"
    }
   ],
   "source": [
    "5 + 2*3"
   ]
  },
  {
   "cell_type": "code",
   "execution_count": 36,
   "id": "d3a0fc18",
   "metadata": {},
   "outputs": [
    {
     "data": {
      "text/plain": [
       "array([1, 2, 3, 4, 5, 6])"
      ]
     },
     "execution_count": 36,
     "metadata": {},
     "output_type": "execute_result"
    }
   ],
   "source": [
    "tmpArr"
   ]
  },
  {
   "cell_type": "code",
   "execution_count": 37,
   "id": "3a824b4e",
   "metadata": {},
   "outputs": [
    {
     "data": {
      "text/plain": [
       "array([0, 1, 2, 3, 4, 5])"
      ]
     },
     "execution_count": 37,
     "metadata": {},
     "output_type": "execute_result"
    }
   ],
   "source": [
    "tmpArr - 1"
   ]
  },
  {
   "cell_type": "code",
   "execution_count": 38,
   "id": "29083143",
   "metadata": {},
   "outputs": [
    {
     "data": {
      "text/plain": [
       "array([ 2,  4,  6,  8, 10, 12])"
      ]
     },
     "execution_count": 38,
     "metadata": {},
     "output_type": "execute_result"
    }
   ],
   "source": [
    "tmpArr * 2"
   ]
  },
  {
   "cell_type": "code",
   "execution_count": 39,
   "id": "c0aa4759",
   "metadata": {},
   "outputs": [
    {
     "data": {
      "text/plain": [
       "array([-3.29995943e-01, -1.68510144e+00,  4.55845352e-01,  9.82040062e-01,\n",
       "        5.06395017e-01, -2.56377962e-01,  1.20176347e+00,  9.84618499e-01,\n",
       "        2.06983769e-01,  2.55474025e-02, -4.22152228e-01, -3.49019340e-01,\n",
       "        2.01263308e+00,  2.36559886e+00,  4.25262533e-01,  6.86704121e-02,\n",
       "        1.19562708e+00,  1.12244070e+00,  1.05038942e+00, -3.05551311e-01,\n",
       "        5.72027234e-01, -9.97199313e-01, -5.02535446e-01, -5.38987779e-02,\n",
       "        6.80803011e-01,  1.86843898e+00, -1.28417258e+00, -3.55073364e-01,\n",
       "       -2.28509830e-03, -1.64352343e+00,  1.59566886e+00,  1.70008931e-01,\n",
       "       -1.05158117e+00,  3.21613558e-01,  8.61538748e-02, -1.54159233e+00,\n",
       "       -4.91079771e-01, -3.37424868e-01,  8.10335142e-01, -9.61175244e-01,\n",
       "        6.45217933e-01, -3.66387761e-01,  9.70868273e-01,  6.04681377e-01,\n",
       "        4.11350835e-01, -1.86520490e-01, -7.88267127e-01,  9.04559543e-01,\n",
       "       -1.18792535e+00, -3.24831718e-01, -2.34852042e+00, -7.61801350e-01,\n",
       "       -3.91412883e-01, -5.89107984e-02,  1.31053829e+00,  1.41320570e+00,\n",
       "        6.77184492e-01,  1.36261323e+00,  1.93378433e+00,  8.89670223e-01,\n",
       "        3.81228941e-01, -1.28632785e+00,  1.48549867e+00,  1.20900666e+00,\n",
       "       -7.64626751e-01,  7.64040912e-01, -6.64817868e-01, -1.42755019e+00,\n",
       "        1.62827971e-01,  1.76623784e+00,  6.45001456e-01, -8.08813445e-01,\n",
       "       -1.32449854e+00, -6.07426320e-01, -1.06119960e+00,  3.39399673e-02,\n",
       "       -1.94527391e+00,  2.38743685e-01,  9.49747850e-01,  1.28476075e+00,\n",
       "       -7.16306786e-01, -4.70139166e-01, -1.89079717e+00, -1.01537069e+00,\n",
       "        1.52284635e+00,  1.10404566e+00, -1.07967529e+00, -7.31947622e-01,\n",
       "        6.75857470e-01,  1.90706675e+00,  1.13311286e+00,  8.26842117e-01,\n",
       "       -2.81873715e+00, -2.76859352e+00, -2.46839722e+00, -1.33186954e+00,\n",
       "        1.41250877e+00, -2.37185888e+00, -2.85360164e-01, -9.02633664e-01])"
      ]
     },
     "execution_count": 39,
     "metadata": {},
     "output_type": "execute_result"
    }
   ],
   "source": [
    "np.random.normal(0, 1, 100)"
   ]
  },
  {
   "cell_type": "code",
   "execution_count": 42,
   "id": "df7d96d3",
   "metadata": {},
   "outputs": [
    {
     "data": {
      "text/plain": [
       "0.01615241986793693"
      ]
     },
     "execution_count": 42,
     "metadata": {},
     "output_type": "execute_result"
    }
   ],
   "source": [
    "a = np.random.normal(0, 1, 1000)\n",
    "a.mean()"
   ]
  },
  {
   "cell_type": "code",
   "execution_count": 43,
   "id": "2d83df39",
   "metadata": {},
   "outputs": [
    {
     "data": {
      "text/plain": [
       "0.9898924727795129"
      ]
     },
     "execution_count": 43,
     "metadata": {},
     "output_type": "execute_result"
    }
   ],
   "source": [
    "a.std()"
   ]
  },
  {
   "cell_type": "code",
   "execution_count": null,
   "id": "b3c2c319",
   "metadata": {},
   "outputs": [],
   "source": []
  }
 ],
 "metadata": {
  "kernelspec": {
   "display_name": "Python 3 (ipykernel)",
   "language": "python",
   "name": "python3"
  },
  "language_info": {
   "codemirror_mode": {
    "name": "ipython",
    "version": 3
   },
   "file_extension": ".py",
   "mimetype": "text/x-python",
   "name": "python",
   "nbconvert_exporter": "python",
   "pygments_lexer": "ipython3",
   "version": "3.8.2"
  }
 },
 "nbformat": 4,
 "nbformat_minor": 5
}

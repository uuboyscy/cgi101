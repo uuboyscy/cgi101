{
 "cells": [
  {
   "cell_type": "code",
   "execution_count": null,
   "id": "cbe419e8",
   "metadata": {},
   "outputs": [],
   "source": [
    "!pip install numpy"
   ]
  },
  {
   "cell_type": "code",
   "execution_count": null,
   "id": "8900234d",
   "metadata": {},
   "outputs": [],
   "source": [
    "!pip install numpy"
   ]
  },
  {
   "cell_type": "code",
   "execution_count": 1,
   "id": "74cfeabf",
   "metadata": {},
   "outputs": [],
   "source": [
    "import numpy as np"
   ]
  },
  {
   "cell_type": "code",
   "execution_count": null,
   "id": "256d5c70",
   "metadata": {},
   "outputs": [],
   "source": [
    "np.zeros(10)"
   ]
  },
  {
   "cell_type": "code",
   "execution_count": null,
   "id": "fe411fd0",
   "metadata": {},
   "outputs": [],
   "source": [
    "np.zeros(10, dtype=int)"
   ]
  },
  {
   "cell_type": "code",
   "execution_count": null,
   "id": "d0f41150",
   "metadata": {},
   "outputs": [],
   "source": [
    "np.zeros((1, 2), dtype=int)"
   ]
  },
  {
   "cell_type": "code",
   "execution_count": null,
   "id": "e28624df",
   "metadata": {},
   "outputs": [],
   "source": [
    "np.zeros((2, 3, 4), dtype=int)"
   ]
  },
  {
   "cell_type": "code",
   "execution_count": null,
   "id": "fbc830b7",
   "metadata": {},
   "outputs": [],
   "source": [
    "np.empty(5)"
   ]
  },
  {
   "cell_type": "code",
   "execution_count": null,
   "id": "d3fda368",
   "metadata": {},
   "outputs": [],
   "source": [
    "a = 1"
   ]
  },
  {
   "cell_type": "code",
   "execution_count": null,
   "id": "5c05ac7b",
   "metadata": {},
   "outputs": [],
   "source": [
    "np.random.rand(2, 3)"
   ]
  },
  {
   "cell_type": "code",
   "execution_count": null,
   "id": "0ed0c8b3",
   "metadata": {},
   "outputs": [],
   "source": [
    "# [1, 10)\n",
    "np.random.randint(1, 10, 20)"
   ]
  },
  {
   "cell_type": "code",
   "execution_count": null,
   "id": "4f752212",
   "metadata": {},
   "outputs": [],
   "source": [
    "import random\n",
    "\n",
    "# [1, 10)\n",
    "random.randint(1, 10) # return int"
   ]
  },
  {
   "cell_type": "code",
   "execution_count": null,
   "id": "4c991730",
   "metadata": {},
   "outputs": [],
   "source": [
    "arr = np.random.rand(2, 3)"
   ]
  },
  {
   "cell_type": "code",
   "execution_count": null,
   "id": "56ff1503",
   "metadata": {},
   "outputs": [],
   "source": [
    "arr.ndim"
   ]
  },
  {
   "cell_type": "code",
   "execution_count": null,
   "id": "6315e153",
   "metadata": {},
   "outputs": [],
   "source": [
    "arr.shape"
   ]
  },
  {
   "cell_type": "code",
   "execution_count": null,
   "id": "5c5faf9e",
   "metadata": {},
   "outputs": [],
   "source": [
    "arr.size"
   ]
  },
  {
   "cell_type": "code",
   "execution_count": null,
   "id": "23aec6d3",
   "metadata": {},
   "outputs": [],
   "source": [
    "arr2 = np.random.rand(100)\n",
    "arr2"
   ]
  },
  {
   "cell_type": "code",
   "execution_count": null,
   "id": "048be5e9",
   "metadata": {},
   "outputs": [],
   "source": [
    "arr2.reshape(2, 50)"
   ]
  },
  {
   "cell_type": "code",
   "execution_count": null,
   "id": "11fbc846",
   "metadata": {},
   "outputs": [],
   "source": [
    "arr2.reshape(2, 49)"
   ]
  },
  {
   "cell_type": "code",
   "execution_count": null,
   "id": "4d54a3ac",
   "metadata": {},
   "outputs": [],
   "source": [
    "arr2.reshape(2, -1)"
   ]
  },
  {
   "cell_type": "code",
   "execution_count": null,
   "id": "bdf64870",
   "metadata": {},
   "outputs": [],
   "source": [
    "arr2.reshape(-1, 25)"
   ]
  },
  {
   "cell_type": "code",
   "execution_count": 10,
   "id": "c40a198c",
   "metadata": {},
   "outputs": [
    {
     "data": {
      "text/plain": [
       "array([1, 2, 3, 4, 5, 6])"
      ]
     },
     "execution_count": 10,
     "metadata": {},
     "output_type": "execute_result"
    }
   ],
   "source": [
    "tmpArr = np.array([1, 2, 3, 4, 5, 6])\n",
    "tmpArr"
   ]
  },
  {
   "cell_type": "code",
   "execution_count": null,
   "id": "0a0492f0",
   "metadata": {},
   "outputs": [],
   "source": [
    "tmpArr.mean()"
   ]
  },
  {
   "cell_type": "code",
   "execution_count": null,
   "id": "ded9e61c",
   "metadata": {},
   "outputs": [],
   "source": [
    "tmpArr.max()"
   ]
  },
  {
   "cell_type": "code",
   "execution_count": null,
   "id": "19ae681b",
   "metadata": {},
   "outputs": [],
   "source": [
    "tmpArr.min()"
   ]
  },
  {
   "cell_type": "code",
   "execution_count": null,
   "id": "e4fd0ac9",
   "metadata": {},
   "outputs": [],
   "source": [
    "np.median(tmpArr)"
   ]
  },
  {
   "cell_type": "code",
   "execution_count": null,
   "id": "797c1133",
   "metadata": {},
   "outputs": [],
   "source": [
    "np.percentile(tmpArr, 10)"
   ]
  },
  {
   "cell_type": "code",
   "execution_count": null,
   "id": "ce4e7823",
   "metadata": {},
   "outputs": [],
   "source": [
    "np.percentile(tmpArr, 10, method=\"higher\")"
   ]
  },
  {
   "cell_type": "code",
   "execution_count": null,
   "id": "12aa7310",
   "metadata": {},
   "outputs": [],
   "source": [
    "np.percentile(tmpArr, 10, method=\"lower\")"
   ]
  },
  {
   "cell_type": "code",
   "execution_count": null,
   "id": "9ee33754",
   "metadata": {},
   "outputs": [],
   "source": [
    "np.percentile(tmpArr, 50, method=\"lower\")"
   ]
  },
  {
   "cell_type": "code",
   "execution_count": null,
   "id": "321d666c",
   "metadata": {},
   "outputs": [],
   "source": [
    "tmpArr.max() - tmpArr.min()"
   ]
  },
  {
   "cell_type": "code",
   "execution_count": null,
   "id": "268b789a",
   "metadata": {},
   "outputs": [],
   "source": [
    "np.percentile(tmpArr, 75, method=\"higher\") - np.percentile(tmpArr, 25, method=\"higher\")"
   ]
  },
  {
   "cell_type": "code",
   "execution_count": null,
   "id": "82c3ff0b",
   "metadata": {},
   "outputs": [],
   "source": [
    "np.percentile(tmpArr, 75, method=\"higher\")"
   ]
  },
  {
   "cell_type": "code",
   "execution_count": null,
   "id": "091bcfec",
   "metadata": {},
   "outputs": [],
   "source": [
    "5 + 2*3"
   ]
  },
  {
   "cell_type": "code",
   "execution_count": null,
   "id": "f96d25e0",
   "metadata": {},
   "outputs": [],
   "source": [
    "tmpArr"
   ]
  },
  {
   "cell_type": "code",
   "execution_count": null,
   "id": "792cc2db",
   "metadata": {},
   "outputs": [],
   "source": [
    "tmpArr - 1"
   ]
  },
  {
   "cell_type": "code",
   "execution_count": null,
   "id": "034a00c3",
   "metadata": {},
   "outputs": [],
   "source": [
    "tmpArr * 2"
   ]
  },
  {
   "cell_type": "code",
   "execution_count": null,
   "id": "98d25f0f",
   "metadata": {},
   "outputs": [],
   "source": [
    "np.random.normal(0, 1, 100)"
   ]
  },
  {
   "cell_type": "code",
   "execution_count": null,
   "id": "424a9b55",
   "metadata": {},
   "outputs": [],
   "source": [
    "a = np.random.normal(0, 1, 1000)\n",
    "a.mean()"
   ]
  },
  {
   "cell_type": "code",
   "execution_count": null,
   "id": "b5e1fc59",
   "metadata": {},
   "outputs": [],
   "source": [
    "a.std()"
   ]
  },
  {
   "cell_type": "code",
   "execution_count": 2,
   "id": "08848586",
   "metadata": {},
   "outputs": [],
   "source": [
    "nparr = np.random.normal(0, 1, 10000)"
   ]
  },
  {
   "cell_type": "code",
   "execution_count": 3,
   "id": "3a9e6115",
   "metadata": {},
   "outputs": [],
   "source": [
    "pylist = list(nparr)"
   ]
  },
  {
   "cell_type": "code",
   "execution_count": 4,
   "id": "f1dd959c",
   "metadata": {},
   "outputs": [
    {
     "data": {
      "text/plain": [
       "1664606837.2521029"
      ]
     },
     "execution_count": 4,
     "metadata": {},
     "output_type": "execute_result"
    }
   ],
   "source": [
    "import time\n",
    "\n",
    "time.time()"
   ]
  },
  {
   "cell_type": "code",
   "execution_count": 5,
   "id": "c32c8f09",
   "metadata": {},
   "outputs": [
    {
     "name": "stdout",
     "output_type": "stream",
     "text": [
      "0.006291570982582874\n",
      "0.0010061264038085938\n"
     ]
    }
   ],
   "source": [
    "st_time = time.time()\n",
    "\n",
    "print(nparr.mean())\n",
    "\n",
    "ed_time = time.time()\n",
    "print(ed_time - st_time)"
   ]
  },
  {
   "cell_type": "code",
   "execution_count": 6,
   "id": "b4ee8bfd",
   "metadata": {},
   "outputs": [
    {
     "name": "stdout",
     "output_type": "stream",
     "text": [
      "0.0062915709825828725\n",
      "0.0009288787841796875\n"
     ]
    }
   ],
   "source": [
    "st_time = time.time()\n",
    "\n",
    "print(sum(pylist)/pylist.__len__())\n",
    "\n",
    "ed_time = time.time()\n",
    "print(ed_time - st_time)"
   ]
  },
  {
   "cell_type": "code",
   "execution_count": 7,
   "id": "95ac6138",
   "metadata": {},
   "outputs": [],
   "source": [
    "newArr = np.array([])\n",
    "newList = list()"
   ]
  },
  {
   "cell_type": "code",
   "execution_count": 8,
   "id": "59cb8edc",
   "metadata": {},
   "outputs": [
    {
     "name": "stdout",
     "output_type": "stream",
     "text": [
      "CPU times: user 2 µs, sys: 1 µs, total: 3 µs\n",
      "Wall time: 5.25 µs\n",
      "0.06801891326904297\n"
     ]
    }
   ],
   "source": [
    "%time\n",
    "\n",
    "\n",
    "st_time = time.time()\n",
    "\n",
    "for i in nparr:\n",
    "    newArr = np.append(newArr, np.array(i))\n",
    "\n",
    "ed_time = time.time()\n",
    "print(ed_time - st_time)"
   ]
  },
  {
   "cell_type": "code",
   "execution_count": 9,
   "id": "a26a81e2",
   "metadata": {},
   "outputs": [
    {
     "name": "stdout",
     "output_type": "stream",
     "text": [
      "0.001127004623413086\n"
     ]
    }
   ],
   "source": [
    "st_time = time.time()\n",
    "\n",
    "for i in pylist:\n",
    "    newList.append(i)\n",
    "\n",
    "ed_time = time.time()\n",
    "print(ed_time - st_time)"
   ]
  },
  {
   "cell_type": "markdown",
   "id": "057ac27c",
   "metadata": {},
   "source": [
    "## Operator\n",
    "- test\n",
    "- test2"
   ]
  },
  {
   "cell_type": "code",
   "execution_count": 12,
   "id": "36e23710",
   "metadata": {},
   "outputs": [
    {
     "data": {
      "text/plain": [
       "array([1, 2, 3, 4, 5, 6])"
      ]
     },
     "execution_count": 12,
     "metadata": {},
     "output_type": "execute_result"
    }
   ],
   "source": [
    "tmpArr = np.array([1, 2, 3, 4, 5, 6])\n",
    "tmpArr"
   ]
  },
  {
   "cell_type": "code",
   "execution_count": 13,
   "id": "5a30263f",
   "metadata": {},
   "outputs": [
    {
     "data": {
      "text/plain": [
       "array([False, False, False,  True,  True,  True])"
      ]
     },
     "execution_count": 13,
     "metadata": {},
     "output_type": "execute_result"
    }
   ],
   "source": [
    "tmpArr > 3"
   ]
  },
  {
   "cell_type": "code",
   "execution_count": 14,
   "id": "2db1aae2",
   "metadata": {},
   "outputs": [
    {
     "data": {
      "text/plain": [
       "array([ True,  True, False, False, False, False])"
      ]
     },
     "execution_count": 14,
     "metadata": {},
     "output_type": "execute_result"
    }
   ],
   "source": [
    "tmpArr < 3"
   ]
  },
  {
   "cell_type": "code",
   "execution_count": 15,
   "id": "64ccdb78",
   "metadata": {},
   "outputs": [
    {
     "data": {
      "text/plain": [
       "array([ True,  True,  True, False, False, False])"
      ]
     },
     "execution_count": 15,
     "metadata": {},
     "output_type": "execute_result"
    }
   ],
   "source": [
    "tmpArr <= 3"
   ]
  },
  {
   "cell_type": "code",
   "execution_count": 16,
   "id": "4992f000",
   "metadata": {},
   "outputs": [
    {
     "data": {
      "text/plain": [
       "array([False, False,  True, False, False, False])"
      ]
     },
     "execution_count": 16,
     "metadata": {},
     "output_type": "execute_result"
    }
   ],
   "source": [
    "tmpArr == 3"
   ]
  },
  {
   "cell_type": "code",
   "execution_count": 17,
   "id": "ad0eb90f",
   "metadata": {},
   "outputs": [
    {
     "data": {
      "text/plain": [
       "array([ True,  True, False,  True,  True,  True])"
      ]
     },
     "execution_count": 17,
     "metadata": {},
     "output_type": "execute_result"
    }
   ],
   "source": [
    "tmpArr != 3"
   ]
  },
  {
   "cell_type": "code",
   "execution_count": 18,
   "id": "74f5f005",
   "metadata": {},
   "outputs": [
    {
     "data": {
      "text/plain": [
       "array([1, 2, 3, 4, 5, 6])"
      ]
     },
     "execution_count": 18,
     "metadata": {},
     "output_type": "execute_result"
    }
   ],
   "source": [
    "tmpArr"
   ]
  },
  {
   "cell_type": "code",
   "execution_count": 19,
   "id": "305532ba",
   "metadata": {},
   "outputs": [
    {
     "data": {
      "text/plain": [
       "array([False, False,  True,  True, False, False])"
      ]
     },
     "execution_count": 19,
     "metadata": {},
     "output_type": "execute_result"
    }
   ],
   "source": [
    "(tmpArr > 2) & (tmpArr < 5)"
   ]
  },
  {
   "cell_type": "code",
   "execution_count": 20,
   "id": "20e35fe3",
   "metadata": {},
   "outputs": [
    {
     "data": {
      "text/plain": [
       "array([ True,  True,  True,  True,  True,  True])"
      ]
     },
     "execution_count": 20,
     "metadata": {},
     "output_type": "execute_result"
    }
   ],
   "source": [
    "(tmpArr > 2) | (tmpArr < 5)"
   ]
  },
  {
   "cell_type": "code",
   "execution_count": 21,
   "id": "bbded9f3",
   "metadata": {},
   "outputs": [
    {
     "data": {
      "text/plain": [
       "array([False, False,  True,  True,  True,  True])"
      ]
     },
     "execution_count": 21,
     "metadata": {},
     "output_type": "execute_result"
    }
   ],
   "source": [
    "(tmpArr > 2)"
   ]
  },
  {
   "cell_type": "code",
   "execution_count": 22,
   "id": "9c8b3b58",
   "metadata": {},
   "outputs": [
    {
     "data": {
      "text/plain": [
       "array([ True,  True,  True,  True, False, False])"
      ]
     },
     "execution_count": 22,
     "metadata": {},
     "output_type": "execute_result"
    }
   ],
   "source": [
    "(tmpArr < 5)"
   ]
  },
  {
   "cell_type": "code",
   "execution_count": 23,
   "id": "9b1769df",
   "metadata": {},
   "outputs": [
    {
     "data": {
      "text/plain": [
       "array([ True,  True, False, False,  True,  True])"
      ]
     },
     "execution_count": 23,
     "metadata": {},
     "output_type": "execute_result"
    }
   ],
   "source": [
    "(tmpArr > 2) ^ (tmpArr < 5)"
   ]
  },
  {
   "cell_type": "code",
   "execution_count": null,
   "id": "292d94e6",
   "metadata": {},
   "outputs": [],
   "source": []
  },
  {
   "cell_type": "code",
   "execution_count": null,
   "id": "8252005e",
   "metadata": {},
   "outputs": [],
   "source": []
  },
  {
   "cell_type": "code",
   "execution_count": null,
   "id": "ede1fb8e",
   "metadata": {},
   "outputs": [],
   "source": []
  },
  {
   "cell_type": "code",
   "execution_count": null,
   "id": "fc16cbe2",
   "metadata": {},
   "outputs": [],
   "source": []
  },
  {
   "cell_type": "code",
   "execution_count": null,
   "id": "4368cdad",
   "metadata": {},
   "outputs": [],
   "source": []
  },
  {
   "cell_type": "code",
   "execution_count": null,
   "id": "0cea8091",
   "metadata": {},
   "outputs": [],
   "source": []
  },
  {
   "cell_type": "code",
   "execution_count": null,
   "id": "21a5eee9",
   "metadata": {},
   "outputs": [],
   "source": []
  },
  {
   "cell_type": "code",
   "execution_count": null,
   "id": "c946925b",
   "metadata": {},
   "outputs": [],
   "source": []
  }
 ],
 "metadata": {
  "kernelspec": {
   "display_name": "Python 3 (ipykernel)",
   "language": "python",
   "name": "python3"
  },
  "language_info": {
   "codemirror_mode": {
    "name": "ipython",
    "version": 3
   },
   "file_extension": ".py",
   "mimetype": "text/x-python",
   "name": "python",
   "nbconvert_exporter": "python",
   "pygments_lexer": "ipython3",
   "version": "3.8.2"
  }
 },
 "nbformat": 4,
 "nbformat_minor": 5
}

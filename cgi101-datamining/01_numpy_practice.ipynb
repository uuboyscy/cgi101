{
 "cells": [
  {
   "cell_type": "code",
   "execution_count": null,
   "id": "01f9717e",
   "metadata": {},
   "outputs": [],
   "source": [
    "!pip install numpy"
   ]
  },
  {
   "cell_type": "code",
   "execution_count": null,
   "id": "b24b1e09",
   "metadata": {},
   "outputs": [],
   "source": [
    "!pip install numpy"
   ]
  },
  {
   "cell_type": "code",
   "execution_count": 1,
   "id": "247b41a9",
   "metadata": {},
   "outputs": [],
   "source": [
    "import numpy as np"
   ]
  },
  {
   "cell_type": "code",
   "execution_count": null,
   "id": "2428adab",
   "metadata": {},
   "outputs": [],
   "source": [
    "np.zeros(10)"
   ]
  },
  {
   "cell_type": "code",
   "execution_count": null,
   "id": "160df133",
   "metadata": {},
   "outputs": [],
   "source": [
    "np.zeros(10, dtype=int)"
   ]
  },
  {
   "cell_type": "code",
   "execution_count": null,
   "id": "34a920cc",
   "metadata": {},
   "outputs": [],
   "source": [
    "np.zeros((1, 2), dtype=int)"
   ]
  },
  {
   "cell_type": "code",
   "execution_count": null,
   "id": "e6629cad",
   "metadata": {},
   "outputs": [],
   "source": [
    "np.zeros((2, 3, 4), dtype=int)"
   ]
  },
  {
   "cell_type": "code",
   "execution_count": null,
   "id": "d0973ac7",
   "metadata": {},
   "outputs": [],
   "source": [
    "np.empty(5)"
   ]
  },
  {
   "cell_type": "code",
   "execution_count": null,
   "id": "4771a30e",
   "metadata": {},
   "outputs": [],
   "source": [
    "a = 1"
   ]
  },
  {
   "cell_type": "code",
   "execution_count": null,
   "id": "1803f2c7",
   "metadata": {},
   "outputs": [],
   "source": [
    "np.random.rand(2, 3)"
   ]
  },
  {
   "cell_type": "code",
   "execution_count": null,
   "id": "a39716cc",
   "metadata": {},
   "outputs": [],
   "source": [
    "# [1, 10)\n",
    "np.random.randint(1, 10, 20)"
   ]
  },
  {
   "cell_type": "code",
   "execution_count": null,
   "id": "2e964f2b",
   "metadata": {},
   "outputs": [],
   "source": [
    "import random\n",
    "\n",
    "# [1, 10)\n",
    "random.randint(1, 10) # return int"
   ]
  },
  {
   "cell_type": "code",
   "execution_count": null,
   "id": "957e02c0",
   "metadata": {},
   "outputs": [],
   "source": [
    "arr = np.random.rand(2, 3)"
   ]
  },
  {
   "cell_type": "code",
   "execution_count": null,
   "id": "2affc1e5",
   "metadata": {},
   "outputs": [],
   "source": [
    "arr.ndim"
   ]
  },
  {
   "cell_type": "code",
   "execution_count": null,
   "id": "7093a447",
   "metadata": {},
   "outputs": [],
   "source": [
    "arr.shape"
   ]
  },
  {
   "cell_type": "code",
   "execution_count": null,
   "id": "99b8ab98",
   "metadata": {},
   "outputs": [],
   "source": [
    "arr.size"
   ]
  },
  {
   "cell_type": "code",
   "execution_count": null,
   "id": "6fded5be",
   "metadata": {},
   "outputs": [],
   "source": [
    "arr2 = np.random.rand(100)\n",
    "arr2"
   ]
  },
  {
   "cell_type": "code",
   "execution_count": null,
   "id": "0a1d226e",
   "metadata": {},
   "outputs": [],
   "source": [
    "arr2.reshape(2, 50)"
   ]
  },
  {
   "cell_type": "code",
   "execution_count": null,
   "id": "b07e63e2",
   "metadata": {},
   "outputs": [],
   "source": [
    "arr2.reshape(2, 49)"
   ]
  },
  {
   "cell_type": "code",
   "execution_count": null,
   "id": "f40ad6e8",
   "metadata": {},
   "outputs": [],
   "source": [
    "arr2.reshape(2, -1)"
   ]
  },
  {
   "cell_type": "code",
   "execution_count": null,
   "id": "62994841",
   "metadata": {},
   "outputs": [],
   "source": [
    "arr2.reshape(-1, 25)"
   ]
  },
  {
   "cell_type": "code",
   "execution_count": 10,
   "id": "0b35fd1a",
   "metadata": {},
   "outputs": [
    {
     "data": {
      "text/plain": [
       "array([1, 2, 3, 4, 5, 6])"
      ]
     },
     "execution_count": 10,
     "metadata": {},
     "output_type": "execute_result"
    }
   ],
   "source": [
    "tmpArr = np.array([1, 2, 3, 4, 5, 6])\n",
    "tmpArr"
   ]
  },
  {
   "cell_type": "code",
   "execution_count": null,
   "id": "d0ed6798",
   "metadata": {},
   "outputs": [],
   "source": [
    "tmpArr.mean()"
   ]
  },
  {
   "cell_type": "code",
   "execution_count": null,
   "id": "2c7cbec6",
   "metadata": {},
   "outputs": [],
   "source": [
    "tmpArr.max()"
   ]
  },
  {
   "cell_type": "code",
   "execution_count": null,
   "id": "0600602d",
   "metadata": {},
   "outputs": [],
   "source": [
    "tmpArr.min()"
   ]
  },
  {
   "cell_type": "code",
   "execution_count": null,
   "id": "d5a4a600",
   "metadata": {},
   "outputs": [],
   "source": [
    "np.median(tmpArr)"
   ]
  },
  {
   "cell_type": "code",
   "execution_count": null,
   "id": "31c8ff90",
   "metadata": {},
   "outputs": [],
   "source": [
    "np.percentile(tmpArr, 10)"
   ]
  },
  {
   "cell_type": "code",
   "execution_count": null,
   "id": "1cdfa9ec",
   "metadata": {},
   "outputs": [],
   "source": [
    "np.percentile(tmpArr, 10, method=\"higher\")"
   ]
  },
  {
   "cell_type": "code",
   "execution_count": null,
   "id": "457f2de2",
   "metadata": {},
   "outputs": [],
   "source": [
    "np.percentile(tmpArr, 10, method=\"lower\")"
   ]
  },
  {
   "cell_type": "code",
   "execution_count": null,
   "id": "df776271",
   "metadata": {},
   "outputs": [],
   "source": [
    "np.percentile(tmpArr, 50, method=\"lower\")"
   ]
  },
  {
   "cell_type": "code",
   "execution_count": null,
   "id": "68a49e98",
   "metadata": {},
   "outputs": [],
   "source": [
    "tmpArr.max() - tmpArr.min()"
   ]
  },
  {
   "cell_type": "code",
   "execution_count": null,
   "id": "fc0f2245",
   "metadata": {},
   "outputs": [],
   "source": [
    "np.percentile(tmpArr, 75, method=\"higher\") - np.percentile(tmpArr, 25, method=\"higher\")"
   ]
  },
  {
   "cell_type": "code",
   "execution_count": null,
   "id": "ceb87bd3",
   "metadata": {},
   "outputs": [],
   "source": [
    "np.percentile(tmpArr, 75, method=\"higher\")"
   ]
  },
  {
   "cell_type": "code",
   "execution_count": null,
   "id": "babf4da2",
   "metadata": {},
   "outputs": [],
   "source": [
    "5 + 2*3"
   ]
  },
  {
   "cell_type": "code",
   "execution_count": null,
   "id": "08a16c2f",
   "metadata": {},
   "outputs": [],
   "source": [
    "tmpArr"
   ]
  },
  {
   "cell_type": "code",
   "execution_count": null,
   "id": "b135bd8e",
   "metadata": {},
   "outputs": [],
   "source": [
    "tmpArr - 1"
   ]
  },
  {
   "cell_type": "code",
   "execution_count": null,
   "id": "010301e0",
   "metadata": {},
   "outputs": [],
   "source": [
    "tmpArr * 2"
   ]
  },
  {
   "cell_type": "code",
   "execution_count": null,
   "id": "995df13f",
   "metadata": {},
   "outputs": [],
   "source": [
    "np.random.normal(0, 1, 100)"
   ]
  },
  {
   "cell_type": "code",
   "execution_count": null,
   "id": "b7838b6d",
   "metadata": {},
   "outputs": [],
   "source": [
    "a = np.random.normal(0, 1, 1000)\n",
    "a.mean()"
   ]
  },
  {
   "cell_type": "code",
   "execution_count": null,
   "id": "c3c8502c",
   "metadata": {},
   "outputs": [],
   "source": [
    "a.std()"
   ]
  },
  {
   "cell_type": "code",
   "execution_count": 2,
   "id": "8d984a81",
   "metadata": {},
   "outputs": [],
   "source": [
    "nparr = np.random.normal(0, 1, 10000)"
   ]
  },
  {
   "cell_type": "code",
   "execution_count": 3,
   "id": "e25136b3",
   "metadata": {},
   "outputs": [],
   "source": [
    "pylist = list(nparr)"
   ]
  },
  {
   "cell_type": "code",
   "execution_count": 4,
   "id": "a8570e6a",
   "metadata": {},
   "outputs": [
    {
     "data": {
      "text/plain": [
       "1664606837.2521029"
      ]
     },
     "execution_count": 4,
     "metadata": {},
     "output_type": "execute_result"
    }
   ],
   "source": [
    "import time\n",
    "\n",
    "time.time()"
   ]
  },
  {
   "cell_type": "code",
   "execution_count": 5,
   "id": "2c15b579",
   "metadata": {},
   "outputs": [
    {
     "name": "stdout",
     "output_type": "stream",
     "text": [
      "0.006291570982582874\n",
      "0.0010061264038085938\n"
     ]
    }
   ],
   "source": [
    "st_time = time.time()\n",
    "\n",
    "print(nparr.mean())\n",
    "\n",
    "ed_time = time.time()\n",
    "print(ed_time - st_time)"
   ]
  },
  {
   "cell_type": "code",
   "execution_count": 6,
   "id": "f97b21ad",
   "metadata": {},
   "outputs": [
    {
     "name": "stdout",
     "output_type": "stream",
     "text": [
      "0.0062915709825828725\n",
      "0.0009288787841796875\n"
     ]
    }
   ],
   "source": [
    "st_time = time.time()\n",
    "\n",
    "print(sum(pylist)/pylist.__len__())\n",
    "\n",
    "ed_time = time.time()\n",
    "print(ed_time - st_time)"
   ]
  },
  {
   "cell_type": "code",
   "execution_count": 7,
   "id": "f3465a9a",
   "metadata": {},
   "outputs": [],
   "source": [
    "newArr = np.array([])\n",
    "newList = list()"
   ]
  },
  {
   "cell_type": "code",
   "execution_count": 8,
   "id": "d15a708e",
   "metadata": {},
   "outputs": [
    {
     "name": "stdout",
     "output_type": "stream",
     "text": [
      "CPU times: user 2 µs, sys: 1 µs, total: 3 µs\n",
      "Wall time: 5.25 µs\n",
      "0.06801891326904297\n"
     ]
    }
   ],
   "source": [
    "%time\n",
    "\n",
    "\n",
    "st_time = time.time()\n",
    "\n",
    "for i in nparr:\n",
    "    newArr = np.append(newArr, np.array(i))\n",
    "\n",
    "ed_time = time.time()\n",
    "print(ed_time - st_time)"
   ]
  },
  {
   "cell_type": "code",
   "execution_count": 9,
   "id": "561aa92d",
   "metadata": {},
   "outputs": [
    {
     "name": "stdout",
     "output_type": "stream",
     "text": [
      "0.001127004623413086\n"
     ]
    }
   ],
   "source": [
    "st_time = time.time()\n",
    "\n",
    "for i in pylist:\n",
    "    newList.append(i)\n",
    "\n",
    "ed_time = time.time()\n",
    "print(ed_time - st_time)"
   ]
  },
  {
   "cell_type": "markdown",
   "id": "b155410e",
   "metadata": {},
   "source": [
    "## Operator\n",
    "- test\n",
    "- test2"
   ]
  },
  {
   "cell_type": "code",
   "execution_count": 12,
   "id": "3c4a1744",
   "metadata": {},
   "outputs": [
    {
     "data": {
      "text/plain": [
       "array([1, 2, 3, 4, 5, 6])"
      ]
     },
     "execution_count": 12,
     "metadata": {},
     "output_type": "execute_result"
    }
   ],
   "source": [
    "tmpArr = np.array([1, 2, 3, 4, 5, 6])\n",
    "tmpArr"
   ]
  },
  {
   "cell_type": "code",
   "execution_count": 13,
   "id": "6235a1a9",
   "metadata": {},
   "outputs": [
    {
     "data": {
      "text/plain": [
       "array([False, False, False,  True,  True,  True])"
      ]
     },
     "execution_count": 13,
     "metadata": {},
     "output_type": "execute_result"
    }
   ],
   "source": [
    "tmpArr > 3"
   ]
  },
  {
   "cell_type": "code",
   "execution_count": 14,
   "id": "3a0238b5",
   "metadata": {},
   "outputs": [
    {
     "data": {
      "text/plain": [
       "array([ True,  True, False, False, False, False])"
      ]
     },
     "execution_count": 14,
     "metadata": {},
     "output_type": "execute_result"
    }
   ],
   "source": [
    "tmpArr < 3"
   ]
  },
  {
   "cell_type": "code",
   "execution_count": 15,
   "id": "bf0275f3",
   "metadata": {},
   "outputs": [
    {
     "data": {
      "text/plain": [
       "array([ True,  True,  True, False, False, False])"
      ]
     },
     "execution_count": 15,
     "metadata": {},
     "output_type": "execute_result"
    }
   ],
   "source": [
    "tmpArr <= 3"
   ]
  },
  {
   "cell_type": "code",
   "execution_count": 16,
   "id": "50b31736",
   "metadata": {},
   "outputs": [
    {
     "data": {
      "text/plain": [
       "array([False, False,  True, False, False, False])"
      ]
     },
     "execution_count": 16,
     "metadata": {},
     "output_type": "execute_result"
    }
   ],
   "source": [
    "tmpArr == 3"
   ]
  },
  {
   "cell_type": "code",
   "execution_count": 17,
   "id": "cd22427a",
   "metadata": {},
   "outputs": [
    {
     "data": {
      "text/plain": [
       "array([ True,  True, False,  True,  True,  True])"
      ]
     },
     "execution_count": 17,
     "metadata": {},
     "output_type": "execute_result"
    }
   ],
   "source": [
    "tmpArr != 3"
   ]
  },
  {
   "cell_type": "code",
   "execution_count": 18,
   "id": "85e3b67b",
   "metadata": {},
   "outputs": [
    {
     "data": {
      "text/plain": [
       "array([1, 2, 3, 4, 5, 6])"
      ]
     },
     "execution_count": 18,
     "metadata": {},
     "output_type": "execute_result"
    }
   ],
   "source": [
    "tmpArr"
   ]
  },
  {
   "cell_type": "code",
   "execution_count": 19,
   "id": "32690ed0",
   "metadata": {},
   "outputs": [
    {
     "data": {
      "text/plain": [
       "array([False, False,  True,  True, False, False])"
      ]
     },
     "execution_count": 19,
     "metadata": {},
     "output_type": "execute_result"
    }
   ],
   "source": [
    "(tmpArr > 2) & (tmpArr < 5)"
   ]
  },
  {
   "cell_type": "code",
   "execution_count": 20,
   "id": "a2668dd4",
   "metadata": {},
   "outputs": [
    {
     "data": {
      "text/plain": [
       "array([ True,  True,  True,  True,  True,  True])"
      ]
     },
     "execution_count": 20,
     "metadata": {},
     "output_type": "execute_result"
    }
   ],
   "source": [
    "(tmpArr > 2) | (tmpArr < 5)"
   ]
  },
  {
   "cell_type": "code",
   "execution_count": 21,
   "id": "5e9c3130",
   "metadata": {},
   "outputs": [
    {
     "data": {
      "text/plain": [
       "array([False, False,  True,  True,  True,  True])"
      ]
     },
     "execution_count": 21,
     "metadata": {},
     "output_type": "execute_result"
    }
   ],
   "source": [
    "(tmpArr > 2)"
   ]
  },
  {
   "cell_type": "code",
   "execution_count": 22,
   "id": "29686ccc",
   "metadata": {},
   "outputs": [
    {
     "data": {
      "text/plain": [
       "array([ True,  True,  True,  True, False, False])"
      ]
     },
     "execution_count": 22,
     "metadata": {},
     "output_type": "execute_result"
    }
   ],
   "source": [
    "(tmpArr < 5)"
   ]
  },
  {
   "cell_type": "code",
   "execution_count": 23,
   "id": "70810a17",
   "metadata": {},
   "outputs": [
    {
     "data": {
      "text/plain": [
       "array([ True,  True, False, False,  True,  True])"
      ]
     },
     "execution_count": 23,
     "metadata": {},
     "output_type": "execute_result"
    }
   ],
   "source": [
    "(tmpArr > 2) ^ (tmpArr < 5)"
   ]
  },
  {
   "cell_type": "code",
   "execution_count": null,
   "id": "9e73f746",
   "metadata": {},
   "outputs": [],
   "source": []
  },
  {
   "cell_type": "code",
   "execution_count": null,
   "id": "1ec9c6a5",
   "metadata": {},
   "outputs": [],
   "source": []
  },
  {
   "cell_type": "code",
   "execution_count": null,
   "id": "c9bd3967",
   "metadata": {},
   "outputs": [],
   "source": []
  },
  {
   "cell_type": "code",
   "execution_count": null,
   "id": "2526b3f5",
   "metadata": {},
   "outputs": [],
   "source": []
  },
  {
   "cell_type": "code",
   "execution_count": null,
   "id": "03f48367",
   "metadata": {},
   "outputs": [],
   "source": []
  },
  {
   "cell_type": "code",
   "execution_count": null,
   "id": "cdbced9d",
   "metadata": {},
   "outputs": [],
   "source": []
  },
  {
   "cell_type": "code",
   "execution_count": null,
   "id": "50fbbe88",
   "metadata": {},
   "outputs": [],
   "source": []
  },
  {
   "cell_type": "code",
   "execution_count": null,
   "id": "563d176a",
   "metadata": {},
   "outputs": [],
   "source": []
  }
 ],
 "metadata": {
  "kernelspec": {
   "display_name": "Python 3 (ipykernel)",
   "language": "python",
   "name": "python3"
  },
  "language_info": {
   "codemirror_mode": {
    "name": "ipython",
    "version": 3
   },
   "file_extension": ".py",
   "mimetype": "text/x-python",
   "name": "python",
   "nbconvert_exporter": "python",
   "pygments_lexer": "ipython3",
   "version": "3.8.2"
  }
 },
 "nbformat": 4,
 "nbformat_minor": 5
}
